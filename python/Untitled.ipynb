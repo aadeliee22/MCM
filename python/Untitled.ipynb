{
 "cells": [
  {
   "cell_type": "code",
   "execution_count": 11,
   "metadata": {},
   "outputs": [],
   "source": [
    "import subprocess as sub\n",
    "from subprocess import Popen, PIPE"
   ]
  },
  {
   "cell_type": "code",
   "execution_count": 39,
   "metadata": {},
   "outputs": [
    {
     "name": "stdout",
     "output_type": "stream",
     "text": [
      "b'01234'\n"
     ]
    }
   ],
   "source": [
    "sub.run(['g++', 't.cpp', '-o', 't', '-std=gnu++11'])\n",
    "p = Popen(['./t'], shell=True, stdout=PIPE, stdin=PIPE)\n",
    "value = '5' + '\\n'\n",
    "value = bytes('5\\n', 'UTF-8')  # Needed in Python 3.\n",
    "p.stdin.write(value)\n",
    "p.stdin.flush()\n",
    "result = p.stdout.readline().strip()\n",
    "print(result)"
   ]
  },
  {
   "cell_type": "code",
   "execution_count": null,
   "metadata": {},
   "outputs": [],
   "source": []
  }
 ],
 "metadata": {
  "kernelspec": {
   "display_name": "Python 3",
   "language": "python",
   "name": "python3"
  },
  "language_info": {
   "codemirror_mode": {
    "name": "ipython",
    "version": 3
   },
   "file_extension": ".py",
   "mimetype": "text/x-python",
   "name": "python",
   "nbconvert_exporter": "python",
   "pygments_lexer": "ipython3",
   "version": "3.7.6"
  }
 },
 "nbformat": 4,
 "nbformat_minor": 4
}
