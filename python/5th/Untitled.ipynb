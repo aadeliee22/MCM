{
 "cells": [
  {
   "cell_type": "code",
   "execution_count": 1,
   "metadata": {},
   "outputs": [],
   "source": [
    "import numpy as np"
   ]
  },
  {
   "cell_type": "code",
   "execution_count": 150,
   "metadata": {},
   "outputs": [
    {
     "name": "stdout",
     "output_type": "stream",
     "text": [
      "[[ 1.  0.  2.  0.]\n",
      " [ 1.  1.  4.  4.]\n",
      " [ 1.  2.  6.  0.]\n",
      " [ 1.  3.  8.  4.]\n",
      " [ 1.  4. 10.  4.]]\n",
      "-2.2737367544323307e-12 \n",
      "\n",
      "[64.96875  -3.78125  -1.609375  0.      ]\n",
      "[61.75 54.75 47.75 40.75 33.75]\n",
      "[-7.77777778e-01  1.22222222e+00  8.88888889e-01  4.29066048e-17] []\n",
      "[ 1.  4.  7. 10. 13.]\n"
     ]
    }
   ],
   "source": [
    "num = 5\n",
    "e = np.array([3*e+1 for e in range (num)])\n",
    "a1 = np.array([a for a in range (num)])\n",
    "a2 = np.array([2*a+2 for a in range (num)])\n",
    "a3 = np.array([np.random.randint(0, 5) for a in range (num)])\n",
    "alla = np.array([a1, a2, a3]).T\n",
    "A = np.hstack([np.ones((len(e), 1)), alla[:, 0:3]])\n",
    "print(A)\n",
    "print(np.linalg.det(A.T@A), \"\\n\")\n",
    "\n",
    "Ainv = np.linalg.inv(A.T @ A) @ A.T\n",
    "x2 = Ainv @ e\n",
    "print(x2)\n",
    "print(A@x2)\n",
    "\n",
    "x1, err, _, _ = np.linalg.lstsq(A, e, rcond=None) #prefer this one\n",
    "print(x1, err)\n",
    "print(A@x1)"
   ]
  },
  {
   "cell_type": "code",
   "execution_count": 147,
   "metadata": {},
   "outputs": [
    {
     "name": "stdout",
     "output_type": "stream",
     "text": [
      "[10.          9.77777778  9.55555556  9.33333333  9.11111111  8.88888889\n",
      "  8.66666667  8.44444444  8.22222222  8.        ]\n"
     ]
    }
   ],
   "source": [
    "print(np.linspace(10, 8, 10))"
   ]
  },
  {
   "cell_type": "code",
   "execution_count": null,
   "metadata": {},
   "outputs": [],
   "source": []
  }
 ],
 "metadata": {
  "kernelspec": {
   "display_name": "Python 3",
   "language": "python",
   "name": "python3"
  },
  "language_info": {
   "codemirror_mode": {
    "name": "ipython",
    "version": 3
   },
   "file_extension": ".py",
   "mimetype": "text/x-python",
   "name": "python",
   "nbconvert_exporter": "python",
   "pygments_lexer": "ipython3",
   "version": "3.7.6"
  }
 },
 "nbformat": 4,
 "nbformat_minor": 4
}
