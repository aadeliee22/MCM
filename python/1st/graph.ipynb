{
 "cells": [
  {
   "cell_type": "code",
   "execution_count": 1,
   "metadata": {},
   "outputs": [],
   "source": [
    "import numpy as np\n",
    "import pandas as pd\n",
    "import matplotlib.pyplot as plt"
   ]
  },
  {
   "cell_type": "code",
   "execution_count": 34,
   "metadata": {},
   "outputs": [
    {
     "data": {
      "image/png": "[encoded data removed]",
      "text/plain": [
       "<Figure size 792x216 with 3 Axes>"
      ]
     },
     "metadata": {
      "needs_background": "light"
     },
     "output_type": "display_data"
    }
   ],
   "source": [
    "p = []\n",
    "path = '20'\n",
    "p.append(pd.read_csv('../txtfiles-1/graph_1_'+path+'.txt', sep = ' ', header = 2))\n",
    "p.append(pd.read_csv('../txtfiles-1/graph_2_'+path+'.txt', sep = ' ', header = 2))\n",
    "p.append(pd.read_csv('../txtfiles-1/graph_3_'+path+'.txt', sep = ' ', header = 2))\n",
    "size = 20\n",
    "\n",
    "fig, (ax1, ax2, ax3) = plt.subplots(1, 3, figsize=(11, 3))\n",
    "\n",
    "a = np.zeros((3, size, size))\n",
    "for k in range (3):\n",
    "    for i in range (size):\n",
    "        for j in range (size):\n",
    "            a[k][i][j] = p[k].s[size*i+j] * (-1)**k\n",
    "ax1.pcolor(a[0])\n",
    "ax1.set(title='T = 0.75 $T_c$')\n",
    "plt.gca().set_aspect('equal', adjustable='box')\n",
    "ax1.tick_params(axis='both', labelsize=0, length = 0)\n",
    "ax2.pcolor(a[1])\n",
    "ax2.set(title='T = $T_c$')\n",
    "plt.gca().set_aspect('equal', adjustable='box')\n",
    "ax2.tick_params(axis='both', labelsize=0, length = 0)\n",
    "ax3.pcolor(a[2])\n",
    "ax3.set(title='T = 1.5 $T_c$')\n",
    "plt.gca().set_aspect('equal', adjustable='box')\n",
    "ax3.tick_params(axis='both', labelsize=0, length = 0)\n",
    "plt.show()"
   ]
  },
  {
   "cell_type": "code",
   "execution_count": 33,
   "metadata": {},
   "outputs": [
    {
     "data": {
      "image/png": "[encoded data removed]",
      "text/plain": [
       "<Figure size 792x216 with 3 Axes>"
      ]
     },
     "metadata": {
      "needs_background": "light"
     },
     "output_type": "display_data"
    }
   ],
   "source": [
    "p = []\n",
    "path = '40'\n",
    "p.append(pd.read_csv('../txtfiles-1/graph_1_'+path+'.txt', sep = ' ', header = 2))\n",
    "p.append(pd.read_csv('../txtfiles-1/graph_2_'+path+'.txt', sep = ' ', header = 2))\n",
    "#p.append(pd.read_csv('../txtfiles-1/graph_3_'+path+'.txt', sep = ' ', header = 2))\n",
    "size = 40\n",
    "\n",
    "fig, (ax1, ax2, ax3) = plt.subplots(1, 3, figsize=(11, 3))\n",
    "\n",
    "a = np.zeros((3, size, size))\n",
    "for k in range (len(p)):\n",
    "    for i in range (size):\n",
    "        for j in range (size):\n",
    "            a[k][i][j] = p[k].s[size*i+j] * (-1)**k\n",
    "ax1.pcolor(a[0])\n",
    "ax1.set(title='T = 0.75 $T_c$')\n",
    "plt.gca().set_aspect('equal', adjustable='box')\n",
    "ax1.tick_params(axis='both', labelsize=0, length = 0)\n",
    "ax2.pcolor(a[1])\n",
    "ax2.set(title='T = $T_c$')\n",
    "plt.gca().set_aspect('equal', adjustable='box')\n",
    "ax2.tick_params(axis='both', labelsize=0, length = 0)\n",
    "ax3.pcolor(a[2])\n",
    "ax3.set(title='T = 1.5 $T_c$')\n",
    "plt.gca().set_aspect('equal', adjustable='box')\n",
    "ax3.tick_params(axis='both', labelsize=0, length = 0)\n",
    "plt.show()"
   ]
  },
  {
   "cell_type": "code",
   "execution_count": null,
   "metadata": {},
   "outputs": [],
   "source": []
  }
 ],
 "metadata": {
  "kernelspec": {
   "display_name": "Python 3",
   "language": "python",
   "name": "python3"
  },
  "language_info": {
   "codemirror_mode": {
    "name": "ipython",
    "version": 3
   },
   "file_extension": ".py",
   "mimetype": "text/x-python",
   "name": "python",
   "nbconvert_exporter": "python",
   "pygments_lexer": "ipython3",
   "version": "3.7.6"
  }
 },
 "nbformat": 4,
 "nbformat_minor": 4
}
