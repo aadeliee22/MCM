{
 "cells": [
  {
   "cell_type": "code",
   "execution_count": 1,
   "metadata": {},
   "outputs": [],
   "source": [
    "import numpy as np\n",
    "import pandas as pd"
   ]
  },
  {
   "cell_type": "code",
   "execution_count": 10,
   "metadata": {},
   "outputs": [],
   "source": [
    "Jlist10 = pd.read_csv('Jlist_10.txt', sep = ' ', header = 0)\n",
    "Jlist20 = pd.read_csv('Jlist_20.txt', sep = ' ', header = 0)"
   ]
  },
  {
   "cell_type": "code",
   "execution_count": 11,
   "metadata": {},
   "outputs": [],
   "source": [
    "avg10 = np.zeros((3, 4))\n",
    "avg20 = np.zeros((3, 4))\n",
    "std10 = np.zeros((3, 4))\n",
    "std20 = np.zeros((3, 4))\n",
    "for i in range (3):\n",
    "    a = np.average(Jlist10[5*i:5*i+5], axis=0)\n",
    "    astd = np.std(Jlist10[5*i:5*i+5], axis=0)\n",
    "    b = np.average(Jlist20[5*i:5*i+5], axis=0)\n",
    "    bstd = np.std(Jlist20[5*i:5*i+5], axis=0)\n",
    "    avg10[i] = a[2:6]\n",
    "    avg20[i] = b[2:6]\n",
    "    std10[i] = astd[2:6]\n",
    "    std20[i] = bstd[2:6]"
   ]
  },
  {
   "cell_type": "code",
   "execution_count": 12,
   "metadata": {},
   "outputs": [
    {
     "name": "stdout",
     "output_type": "stream",
     "text": [
      "[[ 3.62446758  1.11266113  0.          0.        ]\n",
      " [ 5.16544711  1.15087916 -0.03599717  0.        ]\n",
      " [ 6.83094102  1.16651513  0.01100897 -0.05329765]]\n",
      "[[0.07072301 0.00044258 0.         0.        ]\n",
      " [0.16602876 0.00370956 0.00272357 0.        ]\n",
      " [0.16353934 0.00319768 0.00341563 0.00148761]]\n",
      "[[            nan             nan             nan             nan]\n",
      " [            nan             nan             nan             nan]\n",
      " [ 5.18725966e+01  1.27601351e+00 -7.83649269e-02 -3.43523386e-02]]\n",
      "[[4.25097207e-01 7.02143259e-04 0.00000000e+00 0.00000000e+00]\n",
      " [1.40864795e-01 2.76000000e-07 2.05664150e-04 0.00000000e+00]\n",
      " [2.31812416e-01 1.92634849e-03 1.10414917e-03 7.64133364e-04]]\n"
     ]
    }
   ],
   "source": [
    "print(avg10)\n",
    "print(std10)\n",
    "print(avg20)\n",
    "print(std20)"
   ]
  },
  {
   "cell_type": "code",
   "execution_count": null,
   "metadata": {},
   "outputs": [],
   "source": []
  }
 ],
 "metadata": {
  "kernelspec": {
   "display_name": "Python 3",
   "language": "python",
   "name": "python3"
  },
  "language_info": {
   "codemirror_mode": {
    "name": "ipython",
    "version": 3
   },
   "file_extension": ".py",
   "mimetype": "text/x-python",
   "name": "python",
   "nbconvert_exporter": "python",
   "pygments_lexer": "ipython3",
   "version": "3.7.6"
  }
 },
 "nbformat": 4,
 "nbformat_minor": 4
}
