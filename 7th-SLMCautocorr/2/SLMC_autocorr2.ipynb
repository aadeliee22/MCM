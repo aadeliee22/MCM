{
 "cells": [
  {
   "cell_type": "code",
   "execution_count": 1,
   "metadata": {},
   "outputs": [],
   "source": [
    "import numpy as np\n",
    "import pandas as pd\n",
    "import subprocess as sub\n",
    "import matplotlib.pyplot as plt\n",
    "import time"
   ]
  },
  {
   "cell_type": "markdown",
   "metadata": {},
   "source": [
    "## step 1. Generate sample set by metropolis method"
   ]
  },
  {
   "cell_type": "code",
   "execution_count": 2,
   "metadata": {},
   "outputs": [
    {
     "name": "stdout",
     "output_type": "stream",
     "text": [
      "step1 finished : 17192.301326990128\n",
      "T = 4.493  Energy, J = [ 1.49246822e+01  1.09929557e+00 -2.21594646e-02 -3.22991047e-03]  error = [64569.01234103]\n"
     ]
    }
   ],
   "source": [
    "start = time.time()\n",
    "sub.run(['g++', 'eff_step1_plaquette.cpp', '-o', 'step1_e', '-I/home/hyejin/trng4-4.22', '-L/opt/trng/lib', '-ltrng4', '-std=gnu++11'])\n",
    "sub.run(['./step1_e'])\n",
    "print(\"step1 finished :\", time.time()-start)\n",
    "\n",
    "#Data of Energy&nn in fileout.txt\n",
    "f = pd.read_csv('fileout_eff.txt', sep = ' ', header = 0)\n",
    "size = f.s[0]\n",
    "temp = f.temp[0]\n",
    "step2 = f.step2[0]\n",
    "J0 = np.array(f.ene)\n",
    "J1 = np.array(f.nn)\n",
    "J2 = np.array(f.nnn)\n",
    "J3 = np.array(f.nnnn)\n",
    "num = len(J0)\n",
    "nth = int(f.nth[0]) #How much consideration of nearest neighbors\n",
    "Jmat = np.array([J1, J2, J3]).T\n",
    "target_mat = np.hstack([np.ones((num, 1)), Jmat[:, 0:nth]])\n",
    "Jlist, err, _, _ = np.linalg.lstsq(target_mat, J0, rcond = None)\n",
    "print(\"T =\", temp, \" Energy, J =\", Jlist, \" error =\", err)\n",
    "\n",
    "#Data of coefficient in filein.txt\n",
    "with open(\"filein_eff.txt\", \"w\") as file:\n",
    "    file.write('%d\\n' %size)\n",
    "    file.write('%d\\n' %nth)\n",
    "    file.write('%d\\n' %step2)\n",
    "    file.write('%.10g\\n' %temp)\n",
    "    for i in range (nth + 1):\n",
    "        data = Jlist[i]\n",
    "        file.write('%.10g\\n' % data)"
   ]
  },
  {
   "cell_type": "markdown",
   "metadata": {},
   "source": [
    "## step 2. optimize J, regenerate sample set by wolff method"
   ]
  },
  {
   "cell_type": "code",
   "execution_count": null,
   "metadata": {
    "scrolled": true
   },
   "outputs": [
    {
     "name": "stdout",
     "output_type": "stream",
     "text": [
      "step2 : 14853.537730932236\n",
      "T = 4.293  Energy, J = [ 1.70430864e+01  1.10336751e+00 -2.53168782e-02  2.34995199e-04]  error = [65110.92141222]\n",
      "step2 : 13015.021592140198\n",
      "T = 4.093  Energy, J = [ 1.90407261e+01  1.10918748e+00 -2.73300893e-02 -9.37409088e-04]  error = [58962.33709604]\n",
      "step2 : 11162.517805099487\n",
      "T = 3.8930000000000002  Energy, J = [ 2.48884996e+01  1.12379065e+00 -3.74139140e-02  1.47672201e-04]  error = [53513.23593922]\n",
      "step2 : 9171.285541296005\n",
      "T = 3.693  Energy, J = [ 2.82607881e+01  1.13118210e+00 -3.76686167e-02 -4.20830414e-03]  error = [55523.70869174]\n"
     ]
    }
   ],
   "source": [
    "sub.run(['g++', 'eff_step2_optimize.cpp', '-o', 'step2_e', '-I/home/hyejin/trng4-4.22', '-L/opt/trng/lib','-ltrng4', '-std=gnu++11'])\n",
    "for i in range (15):\n",
    "    start = time.time()\n",
    "    sub.run(['./step2_e'])\n",
    "    print(\"step2 :\", time.time()-start)\n",
    "\n",
    "    #Data of Energy&nn in fileout.txt\n",
    "    f = pd.read_csv('fileout_eff.txt', sep = ' ', header = 0)\n",
    "    size = f.s[0]\n",
    "    temp = f.temp[0]\n",
    "    step2 = f.step2[0]\n",
    "    J0 = np.array(f.ene)\n",
    "    J1 = np.array(f.nn)\n",
    "    J2 = np.array(f.nnn)\n",
    "    J3 = np.array(f.nnnn)\n",
    "    num = len(J0)\n",
    "    nth = int(f.nth[0]) #How much consideration of nearest neighbors\n",
    "    Jmat = np.array([J1, J2, J3]).T\n",
    "    target_mat = np.hstack([np.ones((num, 1)), Jmat[:, 0:nth]])\n",
    "    Jlist, err, _, _ = np.linalg.lstsq(target_mat, J0, rcond = None)\n",
    "    print(\"T =\", temp, \" Energy, J =\", Jlist, \" error =\", err)\n",
    "    #Data of coefficient in filein.txt\n",
    "    with open(\"filein_eff.txt\", \"w\") as file:\n",
    "        file.write('%d\\n' %size)\n",
    "        file.write('%d\\n' %nth)\n",
    "        file.write('%d\\n' %step2)\n",
    "        if temp>2.5: file.write('%.10g\\n' %temp)\n",
    "        else: file.write('%.10g\\n' %(temp+0.2))\n",
    "        for i in range (nth + 1):\n",
    "            data = Jlist[i]\n",
    "            file.write('%.10g\\n' % data)"
   ]
  },
  {
   "cell_type": "code",
   "execution_count": null,
   "metadata": {},
   "outputs": [],
   "source": [
    "sub.run(['g++', 'eff_step3_at.cpp', '-o', 'step3_e', '-I/home/hyejin/trng4-4.22', '-L/opt/trng/lib','-ltrng4', '-std=gnu++11'])\n",
    "sub.run(['./step3_e'])"
   ]
  },
  {
   "cell_type": "code",
   "execution_count": null,
   "metadata": {},
   "outputs": [],
   "source": []
  }
 ],
 "metadata": {
  "kernelspec": {
   "display_name": "Python 3",
   "language": "python",
   "name": "python3"
  },
  "language_info": {
   "codemirror_mode": {
    "name": "ipython",
    "version": 3
   },
   "file_extension": ".py",
   "mimetype": "text/x-python",
   "name": "python",
   "nbconvert_exporter": "python",
   "pygments_lexer": "ipython3",
   "version": "3.7.6"
  }
 },
 "nbformat": 4,
 "nbformat_minor": 4
}
