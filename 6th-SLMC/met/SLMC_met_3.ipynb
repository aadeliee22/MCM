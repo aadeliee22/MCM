{
 "cells": [
  {
   "cell_type": "code",
   "execution_count": 1,
   "metadata": {},
   "outputs": [],
   "source": [
    "import numpy as np\n",
    "import pandas as pd\n",
    "import subprocess as sub\n",
    "import matplotlib.pyplot as plt\n",
    "import time"
   ]
  },
  {
   "cell_type": "markdown",
   "metadata": {},
   "source": [
    "## step 1. Generate sample set by metropolis method"
   ]
  },
  {
   "cell_type": "code",
   "execution_count": 5,
   "metadata": {},
   "outputs": [
    {
     "name": "stdout",
     "output_type": "stream",
     "text": [
      "step1 finished : 259.15528655052185\n",
      "size = 10 nth = 3 step2 = 1024\n",
      " Energy, J = [ 7.31691255e+00  1.20283101e+00 -6.75555046e-02 -5.47102883e-04]  error = [5159.19410293]\n"
     ]
    }
   ],
   "source": [
    "start = time.time()\n",
    "sub.run(['g++', 'step1_plaquette_met.cpp', '-o', 'step1_m', '-I/home/hyejin/trng4-4.22', '-L/opt/trng/lib', '-ltrng4', '-std=gnu++11'])\n",
    "sub.run(['./step1_m'])\n",
    "print(\"step1 finished :\", time.time()-start)\n",
    "\n",
    "#Data of Energy&nn in fileout.txt\n",
    "f = pd.read_csv('fileout_met.txt', sep = ' ', header = 0)\n",
    "size = f.sizes[0]\n",
    "nth = int(f.nth[0]) #How much consideration of nearest neighbors\n",
    "step2 = f.step2[0]\n",
    "J0 = np.array(f.ene)\n",
    "J1 = np.array(f.nn)\n",
    "J2 = np.array(f.nnn)\n",
    "J3 = np.array(f.nnnn)\n",
    "num = len(J0)\n",
    "Jmat = np.array([J1, J2, J3]).T\n",
    "target_mat = np.hstack([np.ones((num, 1)), Jmat[:, 0:nth]])\n",
    "Jlist, err, _, _ = np.linalg.lstsq(target_mat, J0, rcond = None)\n",
    "print(\"size =\", size, \"nth =\", nth, \"step2 =\", step2)\n",
    "print(\" Energy, J =\", Jlist, \" error =\", err)\n",
    "\n",
    "#Data of coefficient in filein.txt\n",
    "with open(\"filein_met.txt\", \"w\") as file:\n",
    "    file.write('%d\\n' %size)\n",
    "    file.write('%d\\n' %nth)\n",
    "    file.write('%d\\n' %step2)\n",
    "    for i in range (nth + 1):\n",
    "        data = Jlist[i]\n",
    "        file.write('%.10g\\n' % data)"
   ]
  },
  {
   "cell_type": "code",
   "execution_count": null,
   "metadata": {},
   "outputs": [],
   "source": [
    "start = time.time()\n",
    "sub.run(['g++', 'step2_met.cpp', '-o', 'step2_m', '-I/home/hyejin/trng4-4.22', '-L/opt/trng/lib', '-ltrng4', '-std=gnu++11'])\n",
    "sub.run(['./step2_m'])\n",
    "print(\"step2 :\", time.time()-start)\n",
    "cols = ['e', 'sp_h']\n",
    "p = pd.read_csv('../../python/txtfiles-5/p10.txt', sep=' ', header=0)\n",
    "fit = pd.read_csv('plot_eff.txt', sep = ' ', header = 1)\n",
    "\n",
    "print(\"Plaquette & Fitted of L=\", size)\n",
    "\n",
    "for j in range (1):\n",
    "    plt.plot(p.temperature, p[cols[j]], 'r.', markersize = 10, markerfacecolor = None, linestyle = 'None', label = 'original')\n",
    "    plt.plot(fit.temperature, fit[cols[j]], '.', markersize = 3, label = 'fitted')\n",
    "    plt.xlabel('T', fontsize=14)\n",
    "    plt.ylabel(cols[j], fontsize=14)\n",
    "    plt.xlim(1.5, 3.5)\n",
    "    plt.legend()\n",
    "    plt.show()"
   ]
  },
  {
   "cell_type": "code",
   "execution_count": null,
   "metadata": {},
   "outputs": [],
   "source": []
  }
 ],
 "metadata": {
  "kernelspec": {
   "display_name": "Python 3",
   "language": "python",
   "name": "python3"
  },
  "language_info": {
   "codemirror_mode": {
    "name": "ipython",
    "version": 3
   },
   "file_extension": ".py",
   "mimetype": "text/x-python",
   "name": "python",
   "nbconvert_exporter": "python",
   "pygments_lexer": "ipython3",
   "version": "3.7.6"
  }
 },
 "nbformat": 4,
 "nbformat_minor": 4
}
