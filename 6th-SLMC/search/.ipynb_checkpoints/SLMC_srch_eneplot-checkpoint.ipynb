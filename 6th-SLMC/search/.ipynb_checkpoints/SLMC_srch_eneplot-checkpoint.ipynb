{
 "cells": [
  {
   "cell_type": "code",
   "execution_count": 48,
   "metadata": {},
   "outputs": [],
   "source": [
    "import numpy as np\n",
    "import pandas as pd\n",
    "import subprocess as sub\n",
    "import matplotlib.pyplot as plt\n",
    "import time"
   ]
  },
  {
   "cell_type": "markdown",
   "metadata": {},
   "source": [
    "## step 1. Generate sample set by metropolis method"
   ]
  },
  {
   "cell_type": "code",
   "execution_count": 49,
   "metadata": {},
   "outputs": [
    {
     "name": "stdout",
     "output_type": "stream",
     "text": [
      "step1 finished : 418.1691257953644\n",
      "T = 4.493  Energy, J = [0.99958897 1.07949737]  error = [31574.18907382]\n"
     ]
    }
   ],
   "source": [
    "start = time.time()\n",
    "sub.run(['g++', 'step1_plaquette_srch.cpp', '-o', 'step1_s', '-I/home/hyejin/trng4-4.22', '-L/opt/trng/lib', '-ltrng4', '-std=gnu++11'])\n",
    "sub.run(['./step1_s'])\n",
    "print(\"step1 finished :\", time.time()-start)\n",
    "\n",
    "#Data of Energy&nn in fileout.txt\n",
    "f = pd.read_csv('fileout_srch.txt', sep = ' ', header = 0)\n",
    "temp = f.temp[0]\n",
    "step2 = f.step2[0]\n",
    "J0 = np.array(f.ene)\n",
    "J1 = np.array(f.nn)\n",
    "J2 = np.array(f.nnn)\n",
    "J3 = np.array(f.nnnn)\n",
    "num = len(J0)\n",
    "nth = int(f.nth[0]) #How much consideration of nearest neighbors\n",
    "Jmat = np.array([J1, J2, J3]).T\n",
    "target_mat = np.hstack([np.ones((num, 1)), Jmat[:, 0:nth]])\n",
    "Jlist, err, _, _ = np.linalg.lstsq(target_mat, J0, rcond = None)\n",
    "print(\"T =\", temp, \" Energy, J =\", Jlist, \" error =\", err)\n",
    "\n",
    "#Data of coefficient in filein.txt\n",
    "with open(\"filein_srch.txt\", \"w\") as file:\n",
    "    file.write('%d\\n' %nth)\n",
    "    file.write('%d\\n' %step2)\n",
    "    file.write('%.10g\\n' %temp)\n",
    "    for i in range (nth + 1):\n",
    "        data = Jlist[i]\n",
    "        file.write('%.10g\\n' % data)"
   ]
  },
  {
   "cell_type": "markdown",
   "metadata": {},
   "source": [
    "## step 2. optimize J, regenerate sample set by wolff method"
   ]
  },
  {
   "cell_type": "code",
   "execution_count": 50,
   "metadata": {
    "scrolled": true
   },
   "outputs": [
    {
     "name": "stdout",
     "output_type": "stream",
     "text": [
      "step2 : 103.49583101272583\n",
      "T = 4.293  Energy, J = [1.20209039 1.08358019]  error = [30586.08972972]\n",
      "step2 : 94.20614433288574\n",
      "T = 4.093  Energy, J = [1.23850477 1.08511341]  error = [30464.9776355]\n",
      "step2 : 79.61877059936523\n",
      "T = 3.8930000000000002  Energy, J = [1.44152538 1.08862738]  error = [29278.51363]\n",
      "step2 : 66.4782440662384\n",
      "T = 3.693  Energy, J = [1.65092972 1.09237307]  error = [27894.09502818]\n",
      "step2 : 56.52578902244568\n",
      "T = 3.4930000000000003  Energy, J = [1.63257967 1.09267717]  error = [26746.76860841]\n",
      "step2 : 43.04122710227966\n",
      "T = 3.293  Energy, J = [2.02152937 1.09813723]  error = [25958.51713145]\n",
      "step2 : 34.580745458602905\n",
      "T = 3.093  Energy, J = [2.26627125 1.10133331]  error = [22821.23814501]\n",
      "step2 : 20.15130305290222\n",
      "T = 2.8930000000000002  Energy, J = [2.29908435 1.10219024]  error = [20181.69957014]\n",
      "step2 : 6.059465408325195\n",
      "T = 2.693  Energy, J = [2.5993496  1.10507624]  error = [15958.84867657]\n",
      "step2 : 6.495642900466919\n",
      "T = 2.4930000000000003  Energy, J = [3.67105076 1.11297616]  error = [11471.95126433]\n",
      "step2 : 6.350540399551392\n",
      "T = 2.4930000000000003  Energy, J = [3.46428618 1.11172853]  error = [10865.61525665]\n",
      "step2 : 6.405244588851929\n",
      "T = 2.4930000000000003  Energy, J = [3.49834333 1.11191862]  error = [11136.17053328]\n",
      "step2 : 6.43004584312439\n",
      "T = 2.4930000000000003  Energy, J = [3.57910195 1.112453  ]  error = [11311.17909788]\n",
      "step2 : 6.394430637359619\n",
      "T = 2.4930000000000003  Energy, J = [3.630164   1.11272584]  error = [11425.06019553]\n",
      "step2 : 6.488729476928711\n",
      "T = 2.4930000000000003  Energy, J = [3.57824627 1.11247967]  error = [10917.150305]\n"
     ]
    }
   ],
   "source": [
    "sub.run(['g++', 'step2_wolff_srch.cpp', '-o', 'step2_s', '-I/home/hyejin/trng4-4.22', '-L/opt/trng/lib','-ltrng4', '-std=gnu++11'])\n",
    "for i in range (15):\n",
    "    start = time.time()\n",
    "    sub.run(['./step2_s'])\n",
    "    print(\"step2 :\", time.time()-start)\n",
    "\n",
    "    #Data of Energy&nn in fileout.txt\n",
    "    f = pd.read_csv('fileout_srch.txt', sep = ' ', header = 0)\n",
    "    temp = f.temp[0]\n",
    "    step2 = f.step2[0]\n",
    "    J0 = np.array(f.ene)\n",
    "    J1 = np.array(f.nn)\n",
    "    J2 = np.array(f.nnn)\n",
    "    J3 = np.array(f.nnnn)\n",
    "    num = len(J0)\n",
    "    nth = int(f.nth[0]) #How much consideration of nearest neighbors\n",
    "    Jmat = np.array([J1, J2, J3]).T\n",
    "    target_mat = np.hstack([np.ones((num, 1)), Jmat[:, 0:nth]])\n",
    "    Jlist, err, _, _ = np.linalg.lstsq(target_mat, J0, rcond = None)\n",
    "    print(\"T =\", temp, \" Energy, J =\", Jlist, \" error =\", err)\n",
    "    #Data of coefficient in filein.txt\n",
    "    with open(\"filein_srch.txt\", \"w\") as file:\n",
    "        file.write('%d\\n' %nth)\n",
    "        file.write('%d\\n' %step2)\n",
    "        if temp>2.5: file.write('%.10g\\n' %temp)\n",
    "        else: file.write('%.10g\\n' %(temp+0.2))\n",
    "        for i in range (nth + 1):\n",
    "            data = Jlist[i]\n",
    "            file.write('%.10g\\n' % data)"
   ]
  },
  {
   "cell_type": "markdown",
   "metadata": {},
   "source": [
    "## step 4. Compare energy"
   ]
  },
  {
   "cell_type": "code",
   "execution_count": null,
   "metadata": {},
   "outputs": [],
   "source": [
    "start = time.time()\n",
    "sub.run(['g++', 'step4_ene_srch.cpp', '-o', 'step4_s', '-I/home/hyejin/trng4-4.22', '-L/opt/trng/lib', '-ltrng4', '-std=gnu++11'])\n",
    "sub.run(['./step4_s'])\n",
    "print(\"step4 :\", time.time()-start)"
   ]
  },
  {
   "cell_type": "code",
   "execution_count": null,
   "metadata": {
    "scrolled": true
   },
   "outputs": [],
   "source": [
    "p = pd.read_csv('../../python/txtfiles-6/plot_ene/p10_e.txt', sep=' ', header=0)\n",
    "fit = pd.read_csv('ene_srch.txt', sep = ' ', header = 1)\n",
    "print(\"Plaquette & Fitted of L =\", 10)\n",
    "\n",
    "plt.plot(fit.e, p.e, '.', markersize = 3, label = 'fitted')\n",
    "plt.xlabel('T', fontsize=14)\n",
    "plt.ylabel(cols[j], fontsize=14)\n",
    "plt.legend()\n",
    "plt.show()"
   ]
  },
  {
   "cell_type": "code",
   "execution_count": null,
   "metadata": {},
   "outputs": [],
   "source": []
  }
 ],
 "metadata": {
  "kernelspec": {
   "display_name": "Python 3",
   "language": "python",
   "name": "python3"
  },
  "language_info": {
   "codemirror_mode": {
    "name": "ipython",
    "version": 3
   },
   "file_extension": ".py",
   "mimetype": "text/x-python",
   "name": "python",
   "nbconvert_exporter": "python",
   "pygments_lexer": "ipython3",
   "version": "3.7.6"
  }
 },
 "nbformat": 4,
 "nbformat_minor": 4
}
