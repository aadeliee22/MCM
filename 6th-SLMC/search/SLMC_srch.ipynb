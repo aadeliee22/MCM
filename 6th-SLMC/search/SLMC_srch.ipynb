{
 "cells": [
  {
   "cell_type": "code",
   "execution_count": 12,
   "metadata": {},
   "outputs": [],
   "source": [
    "import numpy as np\n",
    "import pandas as pd\n",
    "import subprocess as sub\n",
    "import matplotlib.pyplot as plt\n",
    "import time"
   ]
  },
  {
   "cell_type": "markdown",
   "metadata": {},
   "source": [
    "## step 1. Generate sample set by metropolis method"
   ]
  },
  {
   "cell_type": "code",
   "execution_count": 44,
   "metadata": {},
   "outputs": [
    {
     "name": "stdout",
     "output_type": "stream",
     "text": [
      "step1 finished : 411.9806430339813\n",
      "T = 4.493  Energy, J = [ 1.45676625  1.09832968 -0.02216503]  error = [31389.86428501]\n"
     ]
    }
   ],
   "source": [
    "start = time.time()\n",
    "sub.run(['g++', 'step1_plaquette_srch.cpp', '-o', 'step1_s', '-I/home/hyejin/trng4-4.22', '-L/opt/trng/lib', '-ltrng4', '-std=gnu++11'])\n",
    "sub.run(['./step1_s'])\n",
    "print(\"step1 finished :\", time.time()-start)\n",
    "\n",
    "#Data of Energy&nn in fileout.txt\n",
    "f = pd.read_csv('fileout_srch.txt', sep = ' ', header = 0)\n",
    "temp = f.temp[0]\n",
    "J0 = np.array(f.ene)\n",
    "J1 = np.array(f.nn)\n",
    "J2 = np.array(f.nnn)\n",
    "J3 = np.array(f.nnnn)\n",
    "num = len(J0)\n",
    "nth = int(f.nth[0]) #How much consideration of nearest neighbors\n",
    "Jmat = np.array([J1, J2, J3]).T\n",
    "target_mat = np.hstack([np.ones((num, 1)), Jmat[:, 0:nth]])\n",
    "Jlist, err, _, _ = np.linalg.lstsq(target_mat, J0, rcond = None)\n",
    "print(\"T =\", temp, \" Energy, J =\", Jlist, \" error =\", err)\n",
    "\n",
    "#Data of coefficient in filein.txt\n",
    "with open(\"filein_srch.txt\", \"w\") as file:\n",
    "    file.write('%d\\n' %nth)\n",
    "    file.write('%.10g\\n' %temp)\n",
    "    for i in range (nth + 1):\n",
    "        data = Jlist[i]\n",
    "        file.write('%.10g\\n' % data)"
   ]
  },
  {
   "cell_type": "markdown",
   "metadata": {},
   "source": [
    "## step 2. optimize J, regenerate sample set by wolff method"
   ]
  },
  {
   "cell_type": "code",
   "execution_count": 45,
   "metadata": {
    "scrolled": true
   },
   "outputs": [
    {
     "name": "stdout",
     "output_type": "stream",
     "text": [
      "step2 : 132.774005651474\n",
      "T = 4.293  Energy, J = [ 1.73330109  1.10414861 -0.02362926]  error = [30392.86482094]\n",
      "step2 : 116.34569549560547\n",
      "T = 4.093  Energy, J = [ 1.98791392  1.11219397 -0.02955134]  error = [29506.56387647]\n",
      "step2 : 97.24413466453552\n",
      "T = 3.8930000000000002  Energy, J = [ 2.16068862  1.11446663 -0.02815554]  error = [28153.41544157]\n",
      "step2 : 85.864187002182\n",
      "T = 3.693  Energy, J = [ 2.53626614  1.12433717 -0.03459302]  error = [26623.29898305]\n",
      "step2 : 66.69420623779297\n",
      "T = 3.4930000000000003  Energy, J = [ 2.84548077  1.13017355 -0.03597988]  error = [25384.86475632]\n",
      "step2 : 49.96368145942688\n",
      "T = 3.293  Energy, J = [ 3.64478282  1.14567176 -0.04388756]  error = [22343.60541864]\n",
      "step2 : 30.726420879364014\n",
      "T = 3.093  Energy, J = [ 4.27566731  1.15747434 -0.05009235]  error = [20524.45179224]\n",
      "step2 : 13.264950513839722\n",
      "T = 2.8930000000000002  Energy, J = [ 5.29331166  1.17599038 -0.06083904]  error = [17073.06567647]\n",
      "step2 : 7.354280233383179\n",
      "T = 2.693  Energy, J = [ 6.70396644  1.19976471 -0.0745349 ]  error = [13393.03725423]\n",
      "step2 : 7.856517314910889\n",
      "T = 2.4930000000000003  Energy, J = [ 8.12831682  1.21827518 -0.08359428]  error = [9813.34176701]\n",
      "step2 : 7.866407155990601\n",
      "T = 2.4930000000000003  Energy, J = [ 7.73297655  1.21133032 -0.07895529]  error = [10504.06070509]\n",
      "step2 : 7.8045079708099365\n",
      "T = 2.4930000000000003  Energy, J = [ 8.31209886  1.22337874 -0.08777615]  error = [9773.63433456]\n",
      "step2 : 7.840315818786621\n",
      "T = 2.4930000000000003  Energy, J = [ 8.33329718  1.22349189 -0.08789296]  error = [10048.56366233]\n",
      "step2 : 7.633909463882446\n",
      "T = 2.4930000000000003  Energy, J = [ 8.04315373  1.21821729 -0.08422617]  error = [10123.92683209]\n",
      "step2 : 7.827279090881348\n",
      "T = 2.4930000000000003  Energy, J = [ 8.12168853  1.21969994 -0.08523441]  error = [9943.47428276]\n"
     ]
    }
   ],
   "source": [
    "sub.run(['g++', 'step2_wolff_srch.cpp', '-o', 'step2_s', '-I/home/hyejin/trng4-4.22', '-L/opt/trng/lib','-ltrng4', '-std=gnu++11'])\n",
    "for i in range (15):\n",
    "    start = time.time()\n",
    "    sub.run(['./step2_s'])\n",
    "    print(\"step2 :\", time.time()-start)\n",
    "\n",
    "    #Data of Energy&nn in fileout.txt\n",
    "    f = pd.read_csv('fileout_srch.txt', sep = ' ', header = 0)\n",
    "    temp = f.temp[0]\n",
    "    J0 = np.array(f.ene)\n",
    "    J1 = np.array(f.nn)\n",
    "    J2 = np.array(f.nnn)\n",
    "    J3 = np.array(f.nnnn)\n",
    "    num = len(J0)\n",
    "    nth = int(f.nth[0]) #How much consideration of nearest neighbors\n",
    "    Jmat = np.array([J1, J2, J3]).T\n",
    "    target_mat = np.hstack([np.ones((num, 1)), Jmat[:, 0:nth]])\n",
    "    Jlist, err, _, _ = np.linalg.lstsq(target_mat, J0, rcond = None)\n",
    "    print(\"T =\", temp, \" Energy, J =\", Jlist, \" error =\", err)\n",
    "    #Data of coefficient in filein.txt\n",
    "    with open(\"filein_srch.txt\", \"w\") as file:\n",
    "        file.write('%d\\n' %nth)\n",
    "        if temp>2.5: file.write('%.10g\\n' %temp)\n",
    "        else: file.write('%.10g\\n' %(temp+0.2))\n",
    "        for i in range (nth + 1):\n",
    "            data = Jlist[i]\n",
    "            file.write('%.10g\\n' % data)"
   ]
  },
  {
   "cell_type": "markdown",
   "metadata": {},
   "source": [
    "## step 3. Compare magnetization"
   ]
  },
  {
   "cell_type": "code",
   "execution_count": null,
   "metadata": {},
   "outputs": [],
   "source": [
    "start = time.time()\n",
    "sub.run(['g++', 'step3_plot_srch.cpp', '-o', 'step3_s', '-I/home/hyejin/trng4-4.22', '-L/opt/trng/lib', '-ltrng4', '-std=gnu++11'])\n",
    "sub.run(['./step3_s'])\n",
    "print(\"step3 :\", time.time()-start)"
   ]
  },
  {
   "cell_type": "code",
   "execution_count": null,
   "metadata": {
    "scrolled": true
   },
   "outputs": [],
   "source": [
    "cols = ['m', 'ms', 'e', 'sp_h']\n",
    "p = pd.read_csv('../../python/txtfiles-5/p10.txt', sep=' ', header=0)\n",
    "fit = pd.read_csv('plot_srch.txt', sep = ' ', header = 1)\n",
    "print(\"Plaquette & Fitted of L=10\")\n",
    "\n",
    "for j in range (4):\n",
    "    plt.plot(p.temperature, p[cols[j]], 'r.', markersize = 10, markerfacecolor = None, linestyle = 'None', label = 'original')\n",
    "    plt.plot(fit.temperature, fit[cols[j]], '.', markersize = 3, linestyle = 'None', label = 'fitted')\n",
    "    plt.xlabel('T', fontsize=14)\n",
    "    plt.ylabel(cols[j], fontsize=14)\n",
    "    plt.xlim(1.5, 3.5)\n",
    "    plt.legend()\n",
    "    plt.show()"
   ]
  },
  {
   "cell_type": "code",
   "execution_count": null,
   "metadata": {},
   "outputs": [],
   "source": []
  }
 ],
 "metadata": {
  "kernelspec": {
   "display_name": "Python 3",
   "language": "python",
   "name": "python3"
  },
  "language_info": {
   "codemirror_mode": {
    "name": "ipython",
    "version": 3
   },
   "file_extension": ".py",
   "mimetype": "text/x-python",
   "name": "python",
   "nbconvert_exporter": "python",
   "pygments_lexer": "ipython3",
   "version": "3.7.6"
  }
 },
 "nbformat": 4,
 "nbformat_minor": 4
}
