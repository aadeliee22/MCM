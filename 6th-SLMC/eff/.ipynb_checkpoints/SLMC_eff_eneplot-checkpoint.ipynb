{
 "cells": [
  {
   "cell_type": "code",
   "execution_count": 27,
   "metadata": {},
   "outputs": [],
   "source": [
    "import numpy as np\n",
    "import pandas as pd\n",
    "import subprocess as sub\n",
    "import matplotlib.pyplot as plt\n",
    "import time"
   ]
  },
  {
   "cell_type": "markdown",
   "metadata": {},
   "source": [
    "## step 1. Generate sample set by metropolis method"
   ]
  },
  {
   "cell_type": "code",
   "execution_count": 28,
   "metadata": {},
   "outputs": [
    {
     "name": "stdout",
     "output_type": "stream",
     "text": [
      "step1 finished : 422.83706617355347\n",
      "T = 4.493  Energy, J = [1.0655707 1.0800061]  error = [32513.30527671]\n"
     ]
    }
   ],
   "source": [
    "start = time.time()\n",
    "sub.run(['g++', 'step1_plaquette_eff.cpp', '-o', 'step1_e', '-I/home/hyejin/trng4-4.22', '-L/opt/trng/lib', '-ltrng4', '-std=gnu++11'])\n",
    "sub.run(['./step1_e'])\n",
    "print(\"step1 finished :\", time.time()-start)\n",
    "\n",
    "#Data of Energy&nn in fileout.txt\n",
    "f = pd.read_csv('fileout_eff.txt', sep = ' ', header = 0)\n",
    "temp = f.temp[0]\n",
    "step2 = f.step2[0]\n",
    "J0 = np.array(f.ene)\n",
    "J1 = np.array(f.nn)\n",
    "J2 = np.array(f.nnn)\n",
    "J3 = np.array(f.nnnn)\n",
    "num = len(J0)\n",
    "nth = int(f.nth[0]) #How much consideration of nearest neighbors\n",
    "Jmat = np.array([J1, J2, J3]).T\n",
    "target_mat = np.hstack([np.ones((num, 1)), Jmat[:, 0:nth]])\n",
    "Jlist, err, _, _ = np.linalg.lstsq(target_mat, J0, rcond = None)\n",
    "Jlist, err, _, _ = np.linalg.lstsq(target_mat, J0, rcond = None)\n",
    "print(\"nth =\", nth, \"step2 =\", step2)\n",
    "print(\"T =\", temp, \" Energy, J =\", Jlist, \" error =\", err)\n",
    "\n",
    "#Data of coefficient in filein.txt\n",
    "with open(\"filein_eff.txt\", \"w\") as file:\n",
    "    file.write('%d\\n' %nth)\n",
    "    file.write('%d\\n' %step2)\n",
    "    file.write('%.10g\\n' %temp)\n",
    "    for i in range (nth + 1):\n",
    "        data = Jlist[i]\n",
    "        file.write('%.10g\\n' % data)"
   ]
  },
  {
   "cell_type": "markdown",
   "metadata": {},
   "source": [
    "## step 2. optimize J, regenerate sample set by wolff method"
   ]
  },
  {
   "cell_type": "code",
   "execution_count": 29,
   "metadata": {
    "scrolled": true
   },
   "outputs": [
    {
     "name": "stdout",
     "output_type": "stream",
     "text": [
      "step2 : 230.09066367149353\n",
      "T = 4.293  Energy, J = [1.16090023 1.08324339]  error = [30392.62860061]\n",
      "step2 : 209.77329802513123\n",
      "T = 4.093  Energy, J = [1.35598665 1.08667906]  error = [30120.4411222]\n",
      "step2 : 175.25509214401245\n",
      "T = 3.8930000000000002  Energy, J = [1.36986412 1.08758916]  error = [29683.62043571]\n",
      "step2 : 145.71259593963623\n",
      "T = 3.693  Energy, J = [1.56924183 1.09101319]  error = [28436.60834943]\n",
      "step2 : 122.84830689430237\n",
      "T = 3.4930000000000003  Energy, J = [1.86586182 1.09610152]  error = [26024.9557469]\n",
      "step2 : 94.77878785133362\n",
      "T = 3.293  Energy, J = [1.990539   1.09747893]  error = [24900.549137]\n",
      "step2 : 73.99593758583069\n",
      "T = 3.093  Energy, J = [2.09549788 1.09948003]  error = [22900.75176527]\n",
      "step2 : 41.42364192008972\n",
      "T = 2.8930000000000002  Energy, J = [2.35757274 1.10254998]  error = [20306.71223711]\n",
      "step2 : 11.279728174209595\n",
      "T = 2.693  Energy, J = [2.68987506 1.10588705]  error = [15996.38108211]\n",
      "step2 : 11.243933200836182\n",
      "T = 2.4930000000000003  Energy, J = [3.64536129 1.11282744]  error = [11367.05271811]\n",
      "step2 : 11.41431212425232\n",
      "T = 2.4930000000000003  Energy, J = [3.60128348 1.11254814]  error = [11181.36367981]\n",
      "step2 : 11.224021673202515\n",
      "T = 2.4930000000000003  Energy, J = [3.59524825 1.11247894]  error = [11291.76567691]\n",
      "step2 : 11.44629168510437\n",
      "T = 2.4930000000000003  Energy, J = [3.6302242  1.11259991]  error = [11334.97681677]\n",
      "step2 : 11.24470853805542\n",
      "T = 2.4930000000000003  Energy, J = [3.6745218  1.11295988]  error = [11096.25000357]\n",
      "step2 : 11.240629434585571\n",
      "T = 2.4930000000000003  Energy, J = [3.54914211 1.11232006]  error = [11120.23780482]\n"
     ]
    }
   ],
   "source": [
    "sub.run(['g++', 'step2_wolff_eff.cpp', '-o', 'step2_e', '-I/home/hyejin/trng4-4.22', '-L/opt/trng/lib','-ltrng4', '-std=gnu++11'])\n",
    "for i in range (15):\n",
    "    start = time.time()\n",
    "    sub.run(['./step2_e'])\n",
    "    print(\"step2 :\", time.time()-start)\n",
    "\n",
    "    #Data of Energy&nn in fileout.txt\n",
    "    f = pd.read_csv('fileout_eff.txt', sep = ' ', header = 0)\n",
    "    temp = f.temp[0]\n",
    "    step2 = f.step2[0]\n",
    "    J0 = np.array(f.ene)\n",
    "    J1 = np.array(f.nn)\n",
    "    J2 = np.array(f.nnn)\n",
    "    J3 = np.array(f.nnnn)\n",
    "    num = len(J0)\n",
    "    nth = int(f.nth[0]) #How much consideration of nearest neighbors\n",
    "    Jmat = np.array([J1, J2, J3]).T\n",
    "    target_mat = np.hstack([np.ones((num, 1)), Jmat[:, 0:nth]])\n",
    "    Jlist, err, _, _ = np.linalg.lstsq(target_mat, J0, rcond = None)\n",
    "    print(\"T =\", temp, \" Energy, J =\", Jlist, \" error =\", err)\n",
    "    #Data of coefficient in filein.txt\n",
    "    with open(\"filein_eff.txt\", \"w\") as file:\n",
    "        file.write('%d\\n' %nth)\n",
    "        file.write('%d\\n' %step2)\n",
    "        if temp>2.5: file.write('%.10g\\n' %temp)\n",
    "        else: file.write('%.10g\\n' %(temp+0.2))\n",
    "        for i in range (nth + 1):\n",
    "            data = Jlist[i]\n",
    "            file.write('%.10g\\n' % data)"
   ]
  },
  {
   "cell_type": "markdown",
   "metadata": {},
   "source": [
    "## step 4. Compare energy"
   ]
  },
  {
   "cell_type": "code",
   "execution_count": null,
   "metadata": {},
   "outputs": [],
   "source": [
    "start = time.time()\n",
    "sub.run(['g++', 'step4_ene_eff.cpp', '-o', 'step4_e', '-I/home/hyejin/trng4-4.22', '-L/opt/trng/lib', '-ltrng4', '-std=gnu++11'])\n",
    "sub.run(['./step4_e'])\n",
    "print(\"step4 :\", time.time()-start)"
   ]
  },
  {
   "cell_type": "code",
   "execution_count": null,
   "metadata": {
    "scrolled": true
   },
   "outputs": [],
   "source": [
    "p = pd.read_csv('../../python/txtfiles-6/plot_ene/p10_e.txt', sep=' ', header=0)\n",
    "fit = pd.read_csv('ene_srch.txt', sep = ' ', header = 1)\n",
    "print(\"Plaquette & Fitted of L =\", 10)\n",
    "\n",
    "plt.plot(fit.e, p.e, '.', markersize = 3, label = 'fitted')\n",
    "plt.xlabel('T', fontsize=14)\n",
    "plt.ylabel(cols[j], fontsize=14)\n",
    "plt.legend()\n",
    "plt.show()"
   ]
  },
  {
   "cell_type": "code",
   "execution_count": null,
   "metadata": {},
   "outputs": [],
   "source": []
  }
 ],
 "metadata": {
  "kernelspec": {
   "display_name": "Python 3",
   "language": "python",
   "name": "python3"
  },
  "language_info": {
   "codemirror_mode": {
    "name": "ipython",
    "version": 3
   },
   "file_extension": ".py",
   "mimetype": "text/x-python",
   "name": "python",
   "nbconvert_exporter": "python",
   "pygments_lexer": "ipython3",
   "version": "3.7.6"
  }
 },
 "nbformat": 4,
 "nbformat_minor": 4
}
