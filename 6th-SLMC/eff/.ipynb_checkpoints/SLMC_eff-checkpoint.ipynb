{
 "cells": [
  {
   "cell_type": "code",
   "execution_count": 12,
   "metadata": {},
   "outputs": [],
   "source": [
    "import numpy as np\n",
    "import pandas as pd\n",
    "import subprocess as sub\n",
    "import matplotlib.pyplot as plt\n",
    "import time"
   ]
  },
  {
   "cell_type": "markdown",
   "metadata": {},
   "source": [
    "## step 1. Generate sample set by metropolis method"
   ]
  },
  {
   "cell_type": "code",
   "execution_count": 14,
   "metadata": {},
   "outputs": [
    {
     "name": "stdout",
     "output_type": "stream",
     "text": [
      "step1 finished : 414.45122838020325\n",
      "T = 4.493  Energy, J = [ 1.33776995e+00  1.09580633e+00 -2.17415586e-02  6.20450152e-04]  error = [30381.86460981]\n"
     ]
    }
   ],
   "source": [
    "start = time.time()\n",
    "sub.run(['g++', 'step1_plaquette_eff.cpp', '-o', 'step1_e', '-I/home/hyejin/trng4-4.22', '-L/opt/trng/lib', '-ltrng4', '-std=gnu++11'])\n",
    "sub.run(['./step1_e'])\n",
    "print(\"step1 finished :\", time.time()-start)\n",
    "\n",
    "#Data of Energy&nn in fileout.txt\n",
    "f = pd.read_csv('fileout_eff.txt', sep = ' ', header = 0)\n",
    "temp = f.temp[0]\n",
    "J0 = np.array(f.ene)\n",
    "J1 = np.array(f.nn)\n",
    "J2 = np.array(f.nnn)\n",
    "J3 = np.array(f.nnnn)\n",
    "num = len(J0)\n",
    "nth = int(f.nth[0]) #How much consideration of nearest neighbors\n",
    "Jmat = np.array([J1, J2, J3]).T\n",
    "target_mat = np.hstack([np.ones((num, 1)), Jmat[:, 0:nth]])\n",
    "Jlist, err, _, _ = np.linalg.lstsq(target_mat, J0, rcond = None)\n",
    "print(\"T =\", temp, \" Energy, J =\", Jlist, \" error =\", err)\n",
    "\n",
    "#Data of coefficient in filein.txt\n",
    "with open(\"filein_eff.txt\", \"w\") as file:\n",
    "    file.write('%d\\n' %nth)\n",
    "    file.write('%.10g\\n' %temp)\n",
    "    for i in range (nth + 1):\n",
    "        data = Jlist[i]\n",
    "        file.write('%.10g\\n' % data)"
   ]
  },
  {
   "cell_type": "markdown",
   "metadata": {},
   "source": [
    "## step 2. optimize J, regenerate sample set by wolff method"
   ]
  },
  {
   "cell_type": "code",
   "execution_count": 15,
   "metadata": {
    "scrolled": false
   },
   "outputs": [
    {
     "name": "stdout",
     "output_type": "stream",
     "text": [
      "step2 : 349.58586978912354\n",
      "T = 4.293  Energy, J = [ 1.67933691e+00  1.10382144e+00 -2.48783082e-02 -1.01602679e-05]  error = [31096.65417471]\n",
      "step2 : 311.94814109802246\n",
      "T = 4.093  Energy, J = [ 1.99152021e+00  1.11257473e+00 -2.89685742e-02 -1.73142105e-03]  error = [28929.18313913]\n",
      "step2 : 260.29739904403687\n",
      "T = 3.8930000000000002  Energy, J = [ 2.16777231e+00  1.11483007e+00 -2.85133343e-02  8.11233875e-04]  error = [28236.12058153]\n",
      "step2 : 214.80267310142517\n",
      "T = 3.693  Energy, J = [ 2.70990878e+00  1.12756796e+00 -3.51936233e-02  2.59002255e-04]  error = [26417.22698527]\n",
      "step2 : 177.09659552574158\n",
      "T = 3.4930000000000003  Energy, J = [ 3.10876590e+00  1.13504550e+00 -3.68145379e-02 -1.91319529e-03]  error = [24378.50812212]\n",
      "step2 : 130.80757474899292\n",
      "T = 3.293  Energy, J = [ 3.57276854e+00  1.14506259e+00 -4.42494230e-02  3.97954039e-04]  error = [22648.39634036]\n",
      "step2 : 77.2822892665863\n",
      "T = 3.093  Energy, J = [ 4.32129422e+00  1.15932343e+00 -5.16170386e-02  1.61398762e-04]  error = [19768.95886072]\n",
      "step2 : 31.623302221298218\n",
      "T = 2.8930000000000002  Energy, J = [ 5.81504188e+00  1.18423308e+00 -6.36285841e-02 -1.04226329e-03]  error = [16629.4083779]\n",
      "step2 : 16.57097816467285\n",
      "T = 2.693  Energy, J = [ 7.25244916e+00  1.20558127e+00 -6.93983958e-02 -6.78294623e-03]  error = [12265.86929309]\n",
      "step2 : 16.968015432357788\n",
      "T = 2.4930000000000003  Energy, J = [10.64353559  1.25435058 -0.08829016 -0.01612955]  error = [6559.61429956]\n"
     ]
    }
   ],
   "source": [
    "sub.run(['g++', 'step2_wolff_eff.cpp', '-o', 'step2_e', '-I/home/hyejin/trng4-4.22', '-L/opt/trng/lib','-ltrng4', '-std=gnu++11'])\n",
    "for i in range (15):\n",
    "    start = time.time()\n",
    "    sub.run(['./step2_e'])\n",
    "    print(\"step2 :\", time.time()-start)\n",
    "\n",
    "    #Data of Energy&nn in fileout.txt\n",
    "    f = pd.read_csv('fileout_eff.txt', sep = ' ', header = 0)\n",
    "    temp = f.temp[0]\n",
    "    J0 = np.array(f.ene)\n",
    "    J1 = np.array(f.nn)\n",
    "    J2 = np.array(f.nnn)\n",
    "    J3 = np.array(f.nnnn)\n",
    "    num = len(J0)\n",
    "    nth = int(f.nth[0]) #How much consideration of nearest neighbors\n",
    "    Jmat = np.array([J1, J2, J3]).T\n",
    "    target_mat = np.hstack([np.ones((num, 1)), Jmat[:, 0:nth]])\n",
    "    Jlist, err, _, _ = np.linalg.lstsq(target_mat, J0, rcond = None)\n",
    "    print(\"T =\", temp, \" Energy, J =\", Jlist, \" error =\", err)\n",
    "    #Data of coefficient in filein.txt\n",
    "    with open(\"filein_eff.txt\", \"w\") as file:\n",
    "        file.write('%d\\n' %nth)\n",
    "        if temp>2.5: file.write('%.10g\\n' %temp)\n",
    "        else: file.write('%.10g\\n' %(temp+0.2))\n",
    "        for i in range (nth + 1):\n",
    "            data = Jlist[i]\n",
    "            file.write('%.10g\\n' % data)"
   ]
  },
  {
   "cell_type": "markdown",
   "metadata": {},
   "source": [
    "## step 3. Compare magnetization"
   ]
  },
  {
   "cell_type": "code",
   "execution_count": null,
   "metadata": {},
   "outputs": [],
   "source": [
    "start = time.time()\n",
    "sub.run(['g++', 'step3_plot_eff.cpp', '-o', 'step3_e', '-I/home/hyejin/trng4-4.22', '-L/opt/trng/lib', '-ltrng4', '-std=gnu++11'])\n",
    "sub.run(['./step3_e'])\n",
    "print(\"step3 :\", time.time()-start)"
   ]
  },
  {
   "cell_type": "code",
   "execution_count": null,
   "metadata": {
    "scrolled": true
   },
   "outputs": [],
   "source": [
    "cols = ['m', 'ms', 'e', 'sp_h']\n",
    "p = pd.read_csv('../../python/txtfiles-5/p10.txt', sep=' ', header=0)\n",
    "fit = pd.read_csv('plot_eff.txt', sep = ' ', header = 1)\n",
    "\n",
    "print(\"Plaquette & Fitted of L=10\")\n",
    "\n",
    "for j in range (4):\n",
    "    plt.plot(p.temperature, p[cols[j]], 'r.', markersize = 10, markerfacecolor = None, linestyle = 'None', label = 'original')\n",
    "    plt.plot(fit.temperature, fit[cols[j]], '.', markersize = 3, label = 'fitted')\n",
    "    plt.xlabel('T', fontsize=14)\n",
    "    plt.ylabel(cols[j], fontsize=14)\n",
    "    plt.xlim(1.5, 3.5)\n",
    "    plt.legend()\n",
    "    plt.show()"
   ]
  },
  {
   "cell_type": "code",
   "execution_count": null,
   "metadata": {},
   "outputs": [],
   "source": []
  }
 ],
 "metadata": {
  "kernelspec": {
   "display_name": "Python 3",
   "language": "python",
   "name": "python3"
  },
  "language_info": {
   "codemirror_mode": {
    "name": "ipython",
    "version": 3
   },
   "file_extension": ".py",
   "mimetype": "text/x-python",
   "name": "python",
   "nbconvert_exporter": "python",
   "pygments_lexer": "ipython3",
   "version": "3.7.6"
  }
 },
 "nbformat": 4,
 "nbformat_minor": 4
}
