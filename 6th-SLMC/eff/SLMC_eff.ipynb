{
 "cells": [
  {
   "cell_type": "code",
   "execution_count": 12,
   "metadata": {},
   "outputs": [],
   "source": [
    "import numpy as np\n",
    "import pandas as pd\n",
    "import subprocess as sub\n",
    "import matplotlib.pyplot as plt\n",
    "import time"
   ]
  },
  {
   "cell_type": "markdown",
   "metadata": {},
   "source": [
    "## step 1. Generate sample set by metropolis method"
   ]
  },
  {
   "cell_type": "code",
   "execution_count": 23,
   "metadata": {},
   "outputs": [
    {
     "name": "stdout",
     "output_type": "stream",
     "text": [
      "step1 finished : 416.4611840248108\n",
      "T = 4.493  Energy, J = [ 1.47651929  1.09807304 -0.02125913]  error = [31530.34719981]\n"
     ]
    }
   ],
   "source": [
    "start = time.time()\n",
    "sub.run(['g++', 'step1_plaquette_eff.cpp', '-o', 'step1_e', '-I/home/hyejin/trng4-4.22', '-L/opt/trng/lib', '-ltrng4', '-std=gnu++11'])\n",
    "sub.run(['./step1_e'])\n",
    "print(\"step1 finished :\", time.time()-start)\n",
    "\n",
    "#Data of Energy&nn in fileout.txt\n",
    "f = pd.read_csv('fileout_eff.txt', sep = ' ', header = 0)\n",
    "temp = f.temp[0]\n",
    "J0 = np.array(f.ene)\n",
    "J1 = np.array(f.nn)\n",
    "J2 = np.array(f.nnn)\n",
    "J3 = np.array(f.nnnn)\n",
    "num = len(J0)\n",
    "nth = int(f.nth[0]) #How much consideration of nearest neighbors\n",
    "Jmat = np.array([J1, J2, J3]).T\n",
    "target_mat = np.hstack([np.ones((num, 1)), Jmat[:, 0:nth]])\n",
    "Jlist, err, _, _ = np.linalg.lstsq(target_mat, J0, rcond = None)\n",
    "print(\"T =\", temp, \" Energy, J =\", Jlist, \" error =\", err)\n",
    "\n",
    "#Data of coefficient in filein.txt\n",
    "with open(\"filein_eff.txt\", \"w\") as file:\n",
    "    file.write('%d\\n' %nth)\n",
    "    file.write('%.10g\\n' %temp)\n",
    "    for i in range (nth + 1):\n",
    "        data = Jlist[i]\n",
    "        file.write('%.10g\\n' % data)"
   ]
  },
  {
   "cell_type": "markdown",
   "metadata": {},
   "source": [
    "## step 2. optimize J, regenerate sample set by wolff method"
   ]
  },
  {
   "cell_type": "code",
   "execution_count": 24,
   "metadata": {
    "scrolled": true
   },
   "outputs": [
    {
     "name": "stdout",
     "output_type": "stream",
     "text": [
      "step2 : 287.380398273468\n",
      "T = 4.293  Energy, J = [ 1.6410897   1.10307061 -0.02351462]  error = [30475.1930075]\n",
      "step2 : 248.8516025543213\n",
      "T = 4.093  Energy, J = [ 2.08377636  1.11311873 -0.02882472]  error = [28328.48602762]\n",
      "step2 : 207.5419099330902\n",
      "T = 3.8930000000000002  Energy, J = [ 2.19832035  1.11721537 -0.03104816]  error = [27815.46402257]\n",
      "step2 : 169.26204800605774\n",
      "T = 3.693  Energy, J = [ 2.66925769  1.12765039 -0.03655675]  error = [26308.37933666]\n",
      "step2 : 140.03347659111023\n",
      "T = 3.4930000000000003  Energy, J = [ 3.12341604  1.13554559 -0.03836167]  error = [24802.46732445]\n",
      "step2 : 102.29126310348511\n",
      "T = 3.293  Energy, J = [ 3.8434297   1.15027283 -0.04656599]  error = [22608.48356538]\n",
      "step2 : 61.2556586265564\n",
      "T = 3.093  Energy, J = [ 4.5755449   1.16286066 -0.0527649 ]  error = [19664.04461459]\n",
      "step2 : 24.430070638656616\n",
      "T = 2.8930000000000002  Energy, J = [ 6.11923318  1.19104173 -0.06990772]  error = [16326.98427709]\n",
      "step2 : 12.228151082992554\n",
      "T = 2.693  Energy, J = [ 7.32704378  1.20928278 -0.07929008]  error = [11548.62385037]\n",
      "step2 : 12.271612405776978\n",
      "T = 2.4930000000000003  Energy, J = [ 9.23262496  1.23667741 -0.09441697]  error = [7251.45912986]\n",
      "step2 : 11.83724045753479\n",
      "T = 2.4930000000000003  Energy, J = [ 9.67788614  1.24677144 -0.10234873]  error = [6662.42679094]\n",
      "step2 : 11.838720798492432\n",
      "T = 2.4930000000000003  Energy, J = [ 9.87228941  1.24948183 -0.10390303]  error = [6627.84142845]\n",
      "step2 : 11.648576259613037\n",
      "T = 2.4930000000000003  Energy, J = [ 9.37427174  1.23962399 -0.09679521]  error = [7249.19948879]\n",
      "step2 : 11.917062759399414\n",
      "T = 2.4930000000000003  Energy, J = [ 9.49108024  1.24216455 -0.09862118]  error = [6883.07901371]\n",
      "step2 : 11.819766759872437\n",
      "T = 2.4930000000000003  Energy, J = [10.07142102  1.25154162 -0.10484277]  error = [6740.01096141]\n"
     ]
    }
   ],
   "source": [
    "sub.run(['g++', 'step2_wolff_eff.cpp', '-o', 'step2_e', '-I/home/hyejin/trng4-4.22', '-L/opt/trng/lib','-ltrng4', '-std=gnu++11'])\n",
    "for i in range (15):\n",
    "    start = time.time()\n",
    "    sub.run(['./step2_e'])\n",
    "    print(\"step2 :\", time.time()-start)\n",
    "\n",
    "    #Data of Energy&nn in fileout.txt\n",
    "    f = pd.read_csv('fileout_eff.txt', sep = ' ', header = 0)\n",
    "    temp = f.temp[0]\n",
    "    J0 = np.array(f.ene)\n",
    "    J1 = np.array(f.nn)\n",
    "    J2 = np.array(f.nnn)\n",
    "    J3 = np.array(f.nnnn)\n",
    "    num = len(J0)\n",
    "    nth = int(f.nth[0]) #How much consideration of nearest neighbors\n",
    "    Jmat = np.array([J1, J2, J3]).T\n",
    "    target_mat = np.hstack([np.ones((num, 1)), Jmat[:, 0:nth]])\n",
    "    Jlist, err, _, _ = np.linalg.lstsq(target_mat, J0, rcond = None)\n",
    "    print(\"T =\", temp, \" Energy, J =\", Jlist, \" error =\", err)\n",
    "    #Data of coefficient in filein.txt\n",
    "    with open(\"filein_eff.txt\", \"w\") as file:\n",
    "        file.write('%d\\n' %nth)\n",
    "        if temp>2.5: file.write('%.10g\\n' %temp)\n",
    "        else: file.write('%.10g\\n' %(temp+0.2))\n",
    "        for i in range (nth + 1):\n",
    "            data = Jlist[i]\n",
    "            file.write('%.10g\\n' % data)"
   ]
  },
  {
   "cell_type": "markdown",
   "metadata": {},
   "source": [
    "## step 3. Compare magnetization"
   ]
  },
  {
   "cell_type": "code",
   "execution_count": null,
   "metadata": {},
   "outputs": [],
   "source": [
    "start = time.time()\n",
    "sub.run(['g++', 'step3_plot_eff.cpp', '-o', 'step3_e', '-I/home/hyejin/trng4-4.22', '-L/opt/trng/lib', '-ltrng4', '-std=gnu++11'])\n",
    "sub.run(['./step3_e'])\n",
    "print(\"step3 :\", time.time()-start)"
   ]
  },
  {
   "cell_type": "code",
   "execution_count": null,
   "metadata": {
    "scrolled": true
   },
   "outputs": [],
   "source": [
    "cols = ['m', 'ms', 'e', 'sp_h']\n",
    "p = pd.read_csv('../../python/txtfiles-5/p10.txt', sep=' ', header=0)\n",
    "fit = pd.read_csv('plot_eff.txt', sep = ' ', header = 1)\n",
    "\n",
    "print(\"Plaquette & Fitted of L=10\")\n",
    "\n",
    "for j in range (4):\n",
    "    plt.plot(p.temperature, p[cols[j]], 'r.', markersize = 10, markerfacecolor = None, linestyle = 'None', label = 'original')\n",
    "    plt.plot(fit.temperature[fit.temperature>=1.5], fit[cols[j]][fit.temperature>=1.5], '.', markersize = 3, label = 'fitted')\n",
    "    plt.xlabel('T', fontsize=14)\n",
    "    plt.ylabel(cols[j], fontsize=14)\n",
    "    plt.legend()\n",
    "    plt.show()"
   ]
  },
  {
   "cell_type": "code",
   "execution_count": null,
   "metadata": {},
   "outputs": [],
   "source": []
  }
 ],
 "metadata": {
  "kernelspec": {
   "display_name": "Python 3",
   "language": "python",
   "name": "python3"
  },
  "language_info": {
   "codemirror_mode": {
    "name": "ipython",
    "version": 3
   },
   "file_extension": ".py",
   "mimetype": "text/x-python",
   "name": "python",
   "nbconvert_exporter": "python",
   "pygments_lexer": "ipython3",
   "version": "3.7.6"
  }
 },
 "nbformat": 4,
 "nbformat_minor": 4
}
