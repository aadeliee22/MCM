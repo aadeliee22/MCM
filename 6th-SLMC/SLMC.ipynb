{
 "cells": [
  {
   "cell_type": "code",
   "execution_count": 1,
   "metadata": {},
   "outputs": [],
   "source": [
    "import numpy as np\n",
    "import pandas as pd\n",
    "import subprocess as sub"
   ]
  },
  {
   "cell_type": "markdown",
   "metadata": {},
   "source": [
    "## step 1. Generate sample set by metropolis method"
   ]
  },
  {
   "cell_type": "code",
   "execution_count": 2,
   "metadata": {},
   "outputs": [
    {
     "name": "stdout",
     "output_type": "stream",
     "text": [
      "step1 finished\n",
      "Energy, J1, J2, J3 = [ 1.38682493e+00  1.09681018e+00 -2.15831387e-02  5.50907785e-04]\n",
      "error = [30925.20408163]\n"
     ]
    }
   ],
   "source": [
    "sub.run(['g++', 'step1_plaquette_r.cpp', '-o', 'step1', '-I/home/hyejin/trng4-4.22', '-L/opt/trng/lib', '-ltrng4', '-std=gnu++11'])\n",
    "sub.run(['./step1'])\n",
    "print(\"step1 finished\")\n",
    "\n",
    "#Data of Energy&nn in fileout.txt\n",
    "f = pd.read_csv('fileout.txt', sep = ' ', header = 0)\n",
    "temp = f.temp[0]\n",
    "J0 = np.array(f.ene)\n",
    "J1 = np.array(f.nn)\n",
    "J2 = np.array(f.nnn)\n",
    "J3 = np.array(f.nnnn)\n",
    "num = len(J0)\n",
    "nth = 3 #How much consideration of nearest neighbors\n",
    "Jmat = np.array([J1, J2, J3]).T\n",
    "target_mat = np.hstack([np.ones((num, 1)), Jmat[:, 0:nth]])\n",
    "Jlist, err, _, _ = np.linalg.lstsq(target_mat, J0, rcond = None)\n",
    "print(\"Energy, J1, J2, J3 =\", Jlist)\n",
    "print(\"error =\", err)\n",
    "\n",
    "#Data of coefficient in filein.txt\n",
    "with open(\"filein.txt\", \"w\") as file:\n",
    "    for i in range (4):\n",
    "        data = Jlist[i]\n",
    "        file.write('%.10g\\n' % data)\n",
    "    file.write('%.10g' %temp)"
   ]
  },
  {
   "cell_type": "markdown",
   "metadata": {},
   "source": [
    "## step 2. optimize J, regenerate sample set by wolff method"
   ]
  },
  {
   "cell_type": "code",
   "execution_count": 3,
   "metadata": {
    "scrolled": true
   },
   "outputs": [
    {
     "name": "stdout",
     "output_type": "stream",
     "text": [
      "T = 4.293\n",
      "Energy, J1, J2, J3 = [ 1.77205203e+00  1.10538072e+00 -2.54389804e-02  2.75450972e-04]\n",
      "error = [29409.90507735]\n",
      "T = 4.093\n",
      "Energy, J1, J2, J3 = [ 1.94848702e+00  1.11098217e+00 -2.73309751e-02 -1.22603555e-03]\n",
      "error = [29455.712915]\n",
      "T = 3.8930000000000002\n",
      "Energy, J1, J2, J3 = [ 2.37448388e+00  1.12023682e+00 -3.17427428e-02 -1.07382751e-03]\n",
      "error = [27187.20969853]\n",
      "T = 3.693\n",
      "Energy, J1, J2, J3 = [ 2.79026366e+00  1.12916565e+00 -3.66851594e-02  1.54976495e-06]\n",
      "error = [26036.19213913]\n",
      "T = 3.4930000000000003\n",
      "Energy, J1, J2, J3 = [ 3.36273622e+00  1.13935572e+00 -3.94583860e-02 -6.05258390e-04]\n",
      "error = [23736.78215927]\n",
      "T = 3.293\n",
      "Energy, J1, J2, J3 = [ 4.02487855e+00  1.15245686e+00 -4.57541310e-02 -8.28357761e-04]\n",
      "error = [21312.34509775]\n",
      "T = 3.093\n",
      "Energy, J1, J2, J3 = [ 5.25354605e+00  1.17181046e+00 -5.41687211e-02 -2.20797911e-03]\n",
      "error = [17943.76815351]\n",
      "T = 2.8930000000000002\n",
      "Energy, J1, J2, J3 = [ 6.74628522  1.19435358 -0.06127307 -0.00691295]\n",
      "error = [13351.86576497]\n",
      "T = 2.693\n",
      "Energy, J1, J2, J3 = [ 9.26785192  1.22803323 -0.06568631 -0.0201554 ]\n",
      "error = [7419.91730702]\n",
      "T = 2.4930000000000003\n",
      "Energy, J1, J2, J3 = [12.84313075  1.27307258 -0.07498503 -0.03548888]\n",
      "error = [2978.09080227]\n"
     ]
    }
   ],
   "source": [
    "sub.run(['g++', 'step2_nnnwolff.cpp', '-o', 'step2', '-I/home/hyejin/trng4-4.22', '-L/opt/trng/lib','-ltrng4', '-std=gnu++11'])\n",
    "for i in range (10):\n",
    "    sub.run(['./step2'])\n",
    "\n",
    "    #Data of Energy&nn in fileout.txt\n",
    "    f = pd.read_csv('fileout.txt', sep = ' ', header = 0)\n",
    "    temp = f.temp[0]\n",
    "    J0 = np.array(f.ene)\n",
    "    J1 = np.array(f.nn)\n",
    "    J2 = np.array(f.nnn)\n",
    "    J3 = np.array(f.nnnn)\n",
    "    num = len(J0)\n",
    "    nth = 3 #How much consideration of nearest neighbors\n",
    "    Jmat = np.array([J1, J2, J3]).T\n",
    "    target_mat = np.hstack([np.ones((num, 1)), Jmat[:, 0:nth]])\n",
    "    Jlist, err, _, _ = np.linalg.lstsq(target_mat, J0, rcond = None)\n",
    "    print(\"T =\", temp)\n",
    "    print(\"Energy, J1, J2, J3 =\", Jlist)\n",
    "    print(\"error =\", err)\n",
    "\n",
    "    #Data of coefficient in filein.txt\n",
    "    with open(\"filein.txt\", \"w\") as file:\n",
    "        for i in range (4):\n",
    "            data = Jlist[i]\n",
    "            file.write('%.10g\\n' % data)\n",
    "        file.write('%.10g' %temp)"
   ]
  },
  {
   "cell_type": "markdown",
   "metadata": {},
   "source": [
    "## step 3. Compare magnetization"
   ]
  },
  {
   "cell_type": "code",
   "execution_count": 4,
   "metadata": {},
   "outputs": [
    {
     "name": "stdout",
     "output_type": "stream",
     "text": [
      "step3 finished\n"
     ]
    }
   ],
   "source": [
    "sub.run(['g++', 'step3_nnnwolff_Mplot.cpp', '-o', 'step3', '-I/home/hyejin/trng4-4.22', '-L/opt/trng/lib', '-ltrng4', '-std=gnu++11'])\n",
    "sub.run(['./step3'])\n",
    "print(\"step3 finished\")"
   ]
  },
  {
   "cell_type": "code",
   "execution_count": null,
   "metadata": {},
   "outputs": [],
   "source": []
  }
 ],
 "metadata": {
  "kernelspec": {
   "display_name": "Python 3",
   "language": "python",
   "name": "python3"
  },
  "language_info": {
   "codemirror_mode": {
    "name": "ipython",
    "version": 3
   },
   "file_extension": ".py",
   "mimetype": "text/x-python",
   "name": "python",
   "nbconvert_exporter": "python",
   "pygments_lexer": "ipython3",
   "version": "3.7.6"
  }
 },
 "nbformat": 4,
 "nbformat_minor": 4
}
