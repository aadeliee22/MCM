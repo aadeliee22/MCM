{
 "cells": [
  {
   "cell_type": "code",
   "execution_count": 95,
   "metadata": {},
   "outputs": [],
   "source": [
    "import numpy as np\n",
    "import pandas as pd\n",
    "import subprocess as sub"
   ]
  },
  {
   "cell_type": "code",
   "execution_count": 96,
   "metadata": {},
   "outputs": [
    {
     "name": "stdout",
     "output_type": "stream",
     "text": [
      "step1 finished\n",
      "Energy, J1, J2, J3 = [ 1.41133791e+00  1.09577932e+00 -1.98874204e-02 -2.74867681e-04]\n",
      "error = [30590.29719185]\n"
     ]
    }
   ],
   "source": [
    "sub.run(['g++', 'step1_plaquette.cpp', '-o', 'step1', '-I/home/hyejin/trng4-4.22', '-L/opt/trng/lib', '-ltrng4', '-std=gnu++11'])\n",
    "sub.run(['./step1'])\n",
    "print(\"step1 finished\")\n",
    "\n",
    "#Data of Energy&nn in fileout.txt\n",
    "f = pd.read_csv('fileout.txt', sep = ' ', header = 0)\n",
    "temp = f.temp[0]\n",
    "J0 = np.array(f.ene)\n",
    "J1 = np.array(f.nn)\n",
    "J2 = np.array(f.nnn)\n",
    "J3 = np.array(f.nnnn)\n",
    "num = len(J0)\n",
    "nth = 3 #How much consideration of nearest neighbors\n",
    "Jmat = np.array([J1, J2, J3]).T\n",
    "target_mat = np.hstack([np.ones((num, 1)), Jmat[:, 0:nth]])\n",
    "Jlist, err, _, _ = np.linalg.lstsq(target_mat, J0, rcond = None)\n",
    "print(\"Energy, J1, J2, J3 =\", Jlist)\n",
    "print(\"error =\", err)\n",
    "\n",
    "#Data of coefficient in filein.txt\n",
    "with open(\"filein.txt\", \"w\") as file:\n",
    "    for i in range (4):\n",
    "        data = Jlist[i]\n",
    "        file.write('%.10g\\n' % data)\n",
    "    file.write('%.10g' %temp)"
   ]
  },
  {
   "cell_type": "code",
   "execution_count": 97,
   "metadata": {
    "scrolled": true
   },
   "outputs": [
    {
     "name": "stdout",
     "output_type": "stream",
     "text": [
      "T = 4.293\n",
      "Energy, J1, J2, J3 = [ 1.73430851e+00  1.10512767e+00 -2.57778177e-02  7.85278582e-04]\n",
      "error = [30038.33146942]\n",
      "T = 4.093\n",
      "Energy, J1, J2, J3 = [ 2.01663597e+00  1.11110297e+00 -2.71659265e-02  1.16406619e-03]\n",
      "error = [28404.34340449]\n",
      "T = 3.8930000000000002\n",
      "Energy, J1, J2, J3 = [ 2.30344247e+00  1.11779978e+00 -3.08673612e-02  2.11900409e-03]\n",
      "error = [26530.24284608]\n",
      "T = 3.693\n",
      "Energy, J1, J2, J3 = [ 2.73947722e+00  1.12706433e+00 -3.39854891e-02  1.31592421e-04]\n",
      "error = [25874.75955292]\n",
      "T = 3.4930000000000003\n",
      "Energy, J1, J2, J3 = [ 3.26145606e+00  1.13919457e+00 -4.24215544e-02  2.10896487e-03]\n",
      "error = [24419.37226646]\n",
      "T = 3.293\n",
      "Energy, J1, J2, J3 = [ 4.16175987e+00  1.15440552e+00 -4.77608223e-02 -2.57517441e-04]\n",
      "error = [20899.28420179]\n",
      "T = 3.093\n",
      "Energy, J1, J2, J3 = [ 5.15775504e+00  1.17080406e+00 -5.30857948e-02 -2.89823037e-03]\n",
      "error = [17941.91847738]\n",
      "T = 2.8930000000000002\n",
      "Energy, J1, J2, J3 = [ 6.65496233  1.19358144 -0.06124975 -0.00666736]\n",
      "error = [13281.66433773]\n",
      "T = 2.693\n",
      "Energy, J1, J2, J3 = [ 9.65891099  1.23510019 -0.06971161 -0.02117588]\n",
      "error = [7559.00659054]\n",
      "T = 2.4930000000000003\n",
      "Energy, J1, J2, J3 = [13.14270759  1.28209896 -0.08528291 -0.03263406]\n",
      "error = [2840.39868795]\n"
     ]
    }
   ],
   "source": [
    "sub.run(['g++', 'step2_nnnwolff.cpp', '-o', 'step2', '-I/home/hyejin/trng4-4.22', '-L/opt/trng/lib','-ltrng4', '-std=gnu++11'])\n",
    "for i in range (10):\n",
    "    sub.run(['./step2'])\n",
    "\n",
    "    #Data of Energy&nn in fileout.txt\n",
    "    f = pd.read_csv('fileout.txt', sep = ' ', header = 0)\n",
    "    temp = f.temp[0]\n",
    "    J0 = np.array(f.ene)\n",
    "    J1 = np.array(f.nn)\n",
    "    J2 = np.array(f.nnn)\n",
    "    J3 = np.array(f.nnnn)\n",
    "    num = len(J0)\n",
    "    nth = 3 #How much consideration of nearest neighbors\n",
    "    Jmat = np.array([J1, J2, J3]).T\n",
    "    target_mat = np.hstack([np.ones((num, 1)), Jmat[:, 0:nth]])\n",
    "    Jlist, err, _, _ = np.linalg.lstsq(target_mat, J0, rcond = None)\n",
    "    print(\"T =\", temp)\n",
    "    print(\"Energy, J1, J2, J3 =\", Jlist)\n",
    "    print(\"error =\", err)\n",
    "\n",
    "    #Data of coefficient in filein.txt\n",
    "    with open(\"filein.txt\", \"w\") as file:\n",
    "        for i in range (4):\n",
    "            data = Jlist[i]\n",
    "            file.write('%.10g\\n' % data)\n",
    "        file.write('%.10g' %temp)"
   ]
  },
  {
   "cell_type": "code",
   "execution_count": null,
   "metadata": {},
   "outputs": [],
   "source": [
    "sub.run(['g++', 'step3_nnnwolff_Mplot.cpp', '-o', 'step3', '-I/home/hyejin/trng4-4.22', '-L/opt/trng/lib', '-ltrng4', '-std=gnu++11'])\n",
    "sub.run(['./step3'])\n",
    "print(\"step3 finished\")"
   ]
  },
  {
   "cell_type": "code",
   "execution_count": null,
   "metadata": {},
   "outputs": [],
   "source": []
  }
 ],
 "metadata": {
  "kernelspec": {
   "display_name": "Python 3",
   "language": "python",
   "name": "python3"
  },
  "language_info": {
   "codemirror_mode": {
    "name": "ipython",
    "version": 3
   },
   "file_extension": ".py",
   "mimetype": "text/x-python",
   "name": "python",
   "nbconvert_exporter": "python",
   "pygments_lexer": "ipython3",
   "version": "3.7.6"
  }
 },
 "nbformat": 4,
 "nbformat_minor": 4
}
