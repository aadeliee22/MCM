{
 "cells": [
  {
   "cell_type": "code",
   "execution_count": 95,
   "metadata": {},
   "outputs": [],
   "source": [
    "import numpy as np\n",
    "import pandas as pd\n",
    "import subprocess as sub"
   ]
  },
  {
   "cell_type": "code",
   "execution_count": 100,
   "metadata": {},
   "outputs": [
    {
     "name": "stdout",
     "output_type": "stream",
     "text": [
      "step1 finished\n",
      "Energy, J1, J2, J3 = [ 1.47444856e+00  1.09928718e+00 -2.30139319e-02 -9.95025558e-04]\n",
      "error = [30579.75309831]\n"
     ]
    }
   ],
   "source": [
    "sub.run(['g++', 'step1_plaquette.cpp', '-o', 'step1', '-I/home/hyejin/trng4-4.22', '-L/opt/trng/lib', '-ltrng4', '-std=gnu++11'])\n",
    "sub.run(['./step1'])\n",
    "print(\"step1 finished\")\n",
    "\n",
    "#Data of Energy&nn in fileout.txt\n",
    "f = pd.read_csv('fileout.txt', sep = ' ', header = 0)\n",
    "temp = f.temp[0]\n",
    "J0 = np.array(f.ene)\n",
    "J1 = np.array(f.nn)\n",
    "J2 = np.array(f.nnn)\n",
    "J3 = np.array(f.nnnn)\n",
    "num = len(J0)\n",
    "nth = 3 #How much consideration of nearest neighbors\n",
    "Jmat = np.array([J1, J2, J3]).T\n",
    "target_mat = np.hstack([np.ones((num, 1)), Jmat[:, 0:nth]])\n",
    "Jlist, err, _, _ = np.linalg.lstsq(target_mat, J0, rcond = None)\n",
    "print(\"Energy, J1, J2, J3 =\", Jlist)\n",
    "print(\"error =\", err)\n",
    "\n",
    "#Data of coefficient in filein.txt\n",
    "with open(\"filein.txt\", \"w\") as file:\n",
    "    for i in range (4):\n",
    "        data = Jlist[i]\n",
    "        file.write('%.10g\\n' % data)\n",
    "    file.write('%.10g' %temp)"
   ]
  },
  {
   "cell_type": "code",
   "execution_count": 101,
   "metadata": {
    "scrolled": true
   },
   "outputs": [
    {
     "name": "stdout",
     "output_type": "stream",
     "text": [
      "T = 4.293\n",
      "Energy, J1, J2, J3 = [ 1.80997811  1.10667174 -0.02705845  0.00211059]\n",
      "error = [29410.4781227]\n",
      "T = 4.093\n",
      "Energy, J1, J2, J3 = [ 1.96738022e+00  1.11231637e+00 -2.93216608e-02  5.81561153e-04]\n",
      "error = [28684.84499226]\n",
      "T = 3.8930000000000002\n",
      "Energy, J1, J2, J3 = [ 2.17533749e+00  1.11442295e+00 -2.75719502e-02  1.36483909e-03]\n",
      "error = [28150.22702639]\n",
      "T = 3.693\n",
      "Energy, J1, J2, J3 = [ 2.84791856  1.1308819  -0.035252   -0.00312467]\n",
      "error = [26375.90914062]\n",
      "T = 3.4930000000000003\n",
      "Energy, J1, J2, J3 = [ 3.47272771e+00  1.14093547e+00 -3.97669747e-02 -1.02714289e-03]\n",
      "error = [23554.39171008]\n",
      "T = 3.293\n",
      "Energy, J1, J2, J3 = [ 4.07415121e+00  1.15279440e+00 -4.45903849e-02 -2.44594423e-03]\n",
      "error = [21611.48975859]\n",
      "T = 3.093\n",
      "Energy, J1, J2, J3 = [ 5.08607462e+00  1.16927581e+00 -5.20656742e-02 -2.92919028e-03]\n",
      "error = [18144.5877949]\n",
      "T = 2.8930000000000002\n",
      "Energy, J1, J2, J3 = [ 6.79154881e+00  1.19771157e+00 -6.48900061e-02 -6.41913693e-03]\n",
      "error = [13356.0200436]\n",
      "T = 2.693\n",
      "Energy, J1, J2, J3 = [ 9.42248718  1.23241323 -0.06999    -0.01937777]\n",
      "error = [7338.25724001]\n",
      "T = 2.4930000000000003\n",
      "Energy, J1, J2, J3 = [12.95488267  1.27522399 -0.07397666 -0.03802677]\n",
      "error = [3014.71436908]\n"
     ]
    }
   ],
   "source": [
    "sub.run(['g++', 'step2_nnnwolff.cpp', '-o', 'step2', '-I/home/hyejin/trng4-4.22', '-L/opt/trng/lib','-ltrng4', '-std=gnu++11'])\n",
    "for i in range (10):\n",
    "    sub.run(['./step2'])\n",
    "\n",
    "    #Data of Energy&nn in fileout.txt\n",
    "    f = pd.read_csv('fileout.txt', sep = ' ', header = 0)\n",
    "    temp = f.temp[0]\n",
    "    J0 = np.array(f.ene)\n",
    "    J1 = np.array(f.nn)\n",
    "    J2 = np.array(f.nnn)\n",
    "    J3 = np.array(f.nnnn)\n",
    "    num = len(J0)\n",
    "    nth = 3 #How much consideration of nearest neighbors\n",
    "    Jmat = np.array([J1, J2, J3]).T\n",
    "    target_mat = np.hstack([np.ones((num, 1)), Jmat[:, 0:nth]])\n",
    "    Jlist, err, _, _ = np.linalg.lstsq(target_mat, J0, rcond = None)\n",
    "    print(\"T =\", temp)\n",
    "    print(\"Energy, J1, J2, J3 =\", Jlist)\n",
    "    print(\"error =\", err)\n",
    "\n",
    "    #Data of coefficient in filein.txt\n",
    "    with open(\"filein.txt\", \"w\") as file:\n",
    "        for i in range (4):\n",
    "            data = Jlist[i]\n",
    "            file.write('%.10g\\n' % data)\n",
    "        file.write('%.10g' %temp)"
   ]
  },
  {
   "cell_type": "code",
   "execution_count": 102,
   "metadata": {},
   "outputs": [
    {
     "name": "stdout",
     "output_type": "stream",
     "text": [
      "step3 finished\n"
     ]
    }
   ],
   "source": [
    "sub.run(['g++', 'step3_nnnwolff_Mplot.cpp', '-o', 'step3', '-I/home/hyejin/trng4-4.22', '-L/opt/trng/lib', '-ltrng4', '-std=gnu++11'])\n",
    "sub.run(['./step3'])\n",
    "print(\"step3 finished\")"
   ]
  },
  {
   "cell_type": "code",
   "execution_count": null,
   "metadata": {},
   "outputs": [],
   "source": []
  }
 ],
 "metadata": {
  "kernelspec": {
   "display_name": "Python 3",
   "language": "python",
   "name": "python3"
  },
  "language_info": {
   "codemirror_mode": {
    "name": "ipython",
    "version": 3
   },
   "file_extension": ".py",
   "mimetype": "text/x-python",
   "name": "python",
   "nbconvert_exporter": "python",
   "pygments_lexer": "ipython3",
   "version": "3.7.6"
  }
 },
 "nbformat": 4,
 "nbformat_minor": 4
}
