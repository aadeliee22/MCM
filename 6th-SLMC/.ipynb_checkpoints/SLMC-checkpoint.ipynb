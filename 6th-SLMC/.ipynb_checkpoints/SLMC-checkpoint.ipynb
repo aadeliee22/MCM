{
 "cells": [
  {
   "cell_type": "code",
   "execution_count": 12,
   "metadata": {},
   "outputs": [],
   "source": [
    "import numpy as np\n",
    "import pandas as pd"
   ]
  },
  {
   "cell_type": "code",
   "execution_count": 13,
   "metadata": {},
   "outputs": [],
   "source": [
    "f = pd.read_csv('fileout.txt', sep = ' ', header = 0)\n",
    "temp = f.temp[0]\n",
    "J0 = np.array(f.ene)\n",
    "J1 = np.array(f.nn)\n",
    "J2 = np.array(f.nnn)\n",
    "J3 = np.array(f.nnnn)\n",
    "num = len(J0)\n",
    "nth = 3 #How much consideration of nearest neighbors"
   ]
  },
  {
   "cell_type": "code",
   "execution_count": 14,
   "metadata": {},
   "outputs": [
    {
     "name": "stdout",
     "output_type": "stream",
     "text": [
      "Energy, J1, J2, J3 = [ 3.09933118 -0.21423026  0.22265019 -0.06425415]\n",
      "[]\n",
      "Correct?  [3.5 2.5 2.2 2.7]\n"
     ]
    }
   ],
   "source": [
    "Jmat = np.array([J1, J2, J3]).T\n",
    "target_mat = np.hstack([np.ones((num, 1)), Jmat[:, 0:nth]])\n",
    "Jlist, err, _, _ = np.linalg.lstsq(target_mat, J0, rcond = None)\n",
    "print(\"Energy, J1, J2, J3 =\", Jlist)\n",
    "print(\"error =\", err)\n",
    "print(\"Correct? \", (target_mat @ Jlist))"
   ]
  },
  {
   "cell_type": "markdown",
   "metadata": {},
   "source": [
    "## Data of coefficient to filein.txt"
   ]
  },
  {
   "cell_type": "code",
   "execution_count": 24,
   "metadata": {},
   "outputs": [],
   "source": [
    "with open(\"filein.txt\", \"w\") as file:\n",
    "    for i in range (4):\n",
    "        data = Jlist[i]\n",
    "        file.write('%.10g\\n' % data)\n",
    "    file.write('%.10g' %temp)"
   ]
  },
  {
   "cell_type": "code",
   "execution_count": null,
   "metadata": {},
   "outputs": [],
   "source": []
  }
 ],
 "metadata": {
  "kernelspec": {
   "display_name": "Python 3",
   "language": "python",
   "name": "python3"
  },
  "language_info": {
   "codemirror_mode": {
    "name": "ipython",
    "version": 3
   },
   "file_extension": ".py",
   "mimetype": "text/x-python",
   "name": "python",
   "nbconvert_exporter": "python",
   "pygments_lexer": "ipython3",
   "version": "3.7.6"
  }
 },
 "nbformat": 4,
 "nbformat_minor": 4
}
