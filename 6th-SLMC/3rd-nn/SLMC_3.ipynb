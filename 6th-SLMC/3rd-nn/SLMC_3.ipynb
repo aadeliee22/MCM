{
 "cells": [
  {
   "cell_type": "code",
   "execution_count": 1,
   "metadata": {},
   "outputs": [],
   "source": [
    "import numpy as np\n",
    "import pandas as pd\n",
    "import subprocess as sub"
   ]
  },
  {
   "cell_type": "markdown",
   "metadata": {},
   "source": [
    "## step 1. Generate sample set by metropolis method"
   ]
  },
  {
   "cell_type": "code",
   "execution_count": 8,
   "metadata": {},
   "outputs": [
    {
     "name": "stdout",
     "output_type": "stream",
     "text": [
      "step1 finished\n",
      "Energy, J1, J2, J3 = [ 1.49614716e+00  1.09903408e+00 -2.34745403e-02 -1.60186675e-04]\n",
      "error = [31669.41044892]\n"
     ]
    }
   ],
   "source": [
    "# c = checkerboard, r = random\n",
    "sub.run(['g++', 'step1_plaquette_r.cpp', '-o', 'step1', '-I/home/hyejin/trng4-4.22', '-L/opt/trng/lib', '-ltrng4', '-std=gnu++11'])\n",
    "sub.run(['./step1'])\n",
    "print(\"step1 finished\")\n",
    "\n",
    "#Data of Energy&nn in fileout.txt\n",
    "f = pd.read_csv('fileout.txt', sep = ' ', header = 0)\n",
    "temp = f.temp[0]\n",
    "J0 = np.array(f.ene)\n",
    "J1 = np.array(f.nn)\n",
    "J2 = np.array(f.nnn)\n",
    "J3 = np.array(f.nnnn)\n",
    "num = len(J0)\n",
    "nth = 3 #How much consideration of nearest neighbors\n",
    "Jmat = np.array([J1, J2, J3]).T\n",
    "target_mat = np.hstack([np.ones((num, 1)), Jmat[:, 0:nth]])\n",
    "Jlist, err, _, _ = np.linalg.lstsq(target_mat, J0, rcond = None)\n",
    "print(\"Energy, J1, J2, J3 =\", Jlist)\n",
    "print(\"error =\", err)\n",
    "\n",
    "#Data of coefficient in filein.txt\n",
    "with open(\"filein.txt\", \"w\") as file:\n",
    "    for i in range (4):\n",
    "        data = Jlist[i]\n",
    "        file.write('%.10g\\n' % data)\n",
    "    file.write('%.10g' %temp)"
   ]
  },
  {
   "cell_type": "markdown",
   "metadata": {},
   "source": [
    "## step 2. optimize J, regenerate sample set by wolff method"
   ]
  },
  {
   "cell_type": "code",
   "execution_count": 9,
   "metadata": {
    "scrolled": true
   },
   "outputs": [
    {
     "name": "stdout",
     "output_type": "stream",
     "text": [
      "T = 4.293\n",
      "Energy, J1, J2, J3 = [ 1.68272398e+00  1.10345580e+00 -2.37433612e-02 -2.13255757e-04]\n",
      "error = [29980.43698454]\n",
      "T = 4.093\n",
      "Energy, J1, J2, J3 = [ 1.97338616e+00  1.11211079e+00 -2.85359989e-02 -1.41801071e-03]\n",
      "error = [29624.47891772]\n",
      "T = 3.8930000000000002\n",
      "Energy, J1, J2, J3 = [ 2.44375720e+00  1.12225978e+00 -3.34612763e-02 -5.44179000e-04]\n",
      "error = [27461.98916893]\n",
      "T = 3.693\n",
      "Energy, J1, J2, J3 = [ 2.79316122e+00  1.12772544e+00 -3.37643934e-02 -7.07542758e-04]\n",
      "error = [26785.87665636]\n",
      "T = 3.4930000000000003\n",
      "Energy, J1, J2, J3 = [ 3.23443505e+00  1.13642979e+00 -3.70618249e-02 -8.03144978e-04]\n",
      "error = [25094.3505637]\n",
      "T = 3.293\n",
      "Energy, J1, J2, J3 = [ 4.01271793e+00  1.15164921e+00 -4.58689912e-02  1.51395853e-04]\n",
      "error = [20732.30846767]\n",
      "T = 3.093\n",
      "Energy, J1, J2, J3 = [ 5.13634782e+00  1.17198694e+00 -5.58608814e-02 -1.80608247e-03]\n",
      "error = [18180.43673726]\n",
      "T = 2.8930000000000002\n",
      "Energy, J1, J2, J3 = [ 6.76001345e+00  1.19584427e+00 -6.48994320e-02 -4.66574313e-03]\n",
      "error = [13123.43029538]\n",
      "T = 2.693\n",
      "Energy, J1, J2, J3 = [ 9.44910477  1.23284575 -0.07046536 -0.01928829]\n",
      "error = [7352.08215932]\n",
      "T = 2.4930000000000003\n",
      "Energy, J1, J2, J3 = [13.16406961  1.28217709 -0.0853927  -0.03247959]\n",
      "error = [2919.57539845]\n"
     ]
    }
   ],
   "source": [
    "sub.run(['g++', 'step2_nnnwolff.cpp', '-o', 'step2', '-I/home/hyejin/trng4-4.22', '-L/opt/trng/lib','-ltrng4', '-std=gnu++11'])\n",
    "for i in range (10):\n",
    "    sub.run(['./step2'])\n",
    "\n",
    "    #Data of Energy&nn in fileout.txt\n",
    "    f = pd.read_csv('fileout.txt', sep = ' ', header = 0)\n",
    "    temp = f.temp[0]\n",
    "    J0 = np.array(f.ene)\n",
    "    J1 = np.array(f.nn)\n",
    "    J2 = np.array(f.nnn)\n",
    "    J3 = np.array(f.nnnn)\n",
    "    num = len(J0)\n",
    "    nth = 3 #How much consideration of nearest neighbors\n",
    "    Jmat = np.array([J1, J2, J3]).T\n",
    "    target_mat = np.hstack([np.ones((num, 1)), Jmat[:, 0:nth]])\n",
    "    Jlist, err, _, _ = np.linalg.lstsq(target_mat, J0, rcond = None)\n",
    "    print(\"T =\", temp)\n",
    "    print(\"Energy, J1, J2, J3 =\", Jlist)\n",
    "    print(\"error =\", err)\n",
    "\n",
    "    #Data of coefficient in filein.txt\n",
    "    with open(\"filein.txt\", \"w\") as file:\n",
    "        for i in range (4):\n",
    "            data = Jlist[i]\n",
    "            file.write('%.10g\\n' % data)\n",
    "        file.write('%.10g' %temp)"
   ]
  },
  {
   "cell_type": "markdown",
   "metadata": {},
   "source": [
    "## step 3. Compare magnetization"
   ]
  },
  {
   "cell_type": "code",
   "execution_count": null,
   "metadata": {},
   "outputs": [],
   "source": [
    "sub.run(['g++', 'step3_nnnwolff_Mplot.cpp', '-o', 'step3', '-I/home/hyejin/trng4-4.22', '-L/opt/trng/lib', '-ltrng4', '-std=gnu++11'])\n",
    "sub.run(['./step3'])\n",
    "print(\"step3 finished\")"
   ]
  },
  {
   "cell_type": "code",
   "execution_count": null,
   "metadata": {},
   "outputs": [],
   "source": []
  }
 ],
 "metadata": {
  "kernelspec": {
   "display_name": "Python 3",
   "language": "python",
   "name": "python3"
  },
  "language_info": {
   "codemirror_mode": {
    "name": "ipython",
    "version": 3
   },
   "file_extension": ".py",
   "mimetype": "text/x-python",
   "name": "python",
   "nbconvert_exporter": "python",
   "pygments_lexer": "ipython3",
   "version": "3.7.6"
  }
 },
 "nbformat": 4,
 "nbformat_minor": 4
}
