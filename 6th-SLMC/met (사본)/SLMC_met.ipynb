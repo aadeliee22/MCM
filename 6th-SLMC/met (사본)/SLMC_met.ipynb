{
 "cells": [
  {
   "cell_type": "code",
   "execution_count": 2,
   "metadata": {},
   "outputs": [],
   "source": [
    "import numpy as np\n",
    "import pandas as pd\n",
    "import subprocess as sub\n",
    "import matplotlib.pyplot as plt\n",
    "import time"
   ]
  },
  {
   "cell_type": "markdown",
   "metadata": {},
   "source": [
    "## step 1. Generate sample set by metropolis method"
   ]
  },
  {
   "cell_type": "code",
   "execution_count": 11,
   "metadata": {},
   "outputs": [
    {
     "name": "stdout",
     "output_type": "stream",
     "text": [
      "step1 finished : 151.7534749507904\n",
      "size = 10 nth = 1 step2 = 2048\n",
      " Energy, J = [3.34244797 1.11439718]  error = [15498.40811922]\n"
     ]
    }
   ],
   "source": [
    "start = time.time()\n",
    "sub.run(['g++', 'step1_plaquette_met.cpp', '-o', 'step1_m', '-I/home/hyejin/trng4-4.22', '-L/opt/trng/lib', '-ltrng4', '-std=gnu++11'])\n",
    "sub.run(['./step1_m'])\n",
    "print(\"step1 finished :\", time.time()-start)\n",
    "\n",
    "#Data of Energy&nn in fileout.txt\n",
    "f = pd.read_csv('fileout_met.txt', sep = ' ', header = 0)\n",
    "size = f.sizes[0]\n",
    "nth = int(f.nth[0]) #How much consideration of nearest neighbors\n",
    "step2 = f.step2[0]\n",
    "J0 = np.array(f.ene)\n",
    "J1 = np.array(f.nn)\n",
    "J2 = np.array(f.nnn)\n",
    "J3 = np.array(f.nnnn)\n",
    "num = len(J0)\n",
    "Jmat = np.array([J1, J2, J3]).T\n",
    "target_mat = np.hstack([np.ones((num, 1)), Jmat[:, 0:nth]])\n",
    "Jlist, err, _, _ = np.linalg.lstsq(target_mat, J0, rcond = None)\n",
    "print(\"size =\", size, \"nth =\", nth, \"step2 =\", step2)\n",
    "print(\" Energy, J =\", Jlist, \" error =\", err)\n",
    "\n",
    "#Data of coefficient in filein.txt\n",
    "with open(\"filein_met.txt\", \"w\") as file:\n",
    "    file.write('%d\\n' %size)\n",
    "    file.write('%d\\n' %nth)\n",
    "    file.write('%d\\n' %step2)\n",
    "    for i in range (nth + 1):\n",
    "        data = Jlist[i]\n",
    "        file.write('%.10g\\n' % data)"
   ]
  },
  {
   "cell_type": "code",
   "execution_count": null,
   "metadata": {},
   "outputs": [],
   "source": [
    "start = time.time()\n",
    "sub.run(['g++', 'step2_met.cpp', '-o', 'step2_m', '-I/home/hyejin/trng4-4.22', '-L/opt/trng/lib', '-ltrng4', '-std=gnu++11'])\n",
    "sub.run(['./step2_m'])\n",
    "print(\"step2 :\", time.time()-start)"
   ]
  },
  {
   "cell_type": "code",
   "execution_count": null,
   "metadata": {},
   "outputs": [],
   "source": [
    "p = pd.read_csv('../../python/txtfiles-6/plot_ene/p10_e.txt', sep=' ', header=0)\n",
    "fit = pd.read_csv('plot_met.txt', sep = ' ', header = 1)\n",
    "print(\"size =\", size, \"nth =\", nth, \"step2 =\", step2)\n",
    "print(\"Plaquette & Fitted of L =\", 10)\n",
    "\n",
    "plt.plot(fit.e, p.e, '.', markersize = 3)\n",
    "plt.xlabel('effective', fontsize=12)\n",
    "plt.ylabel('original', fontsize=12)\n",
    "plt.legend()\n",
    "plt.show()\n",
    "\n",
    "plt.plot((fit.e-p.e)**2, '.', markersize = 3)\n",
    "plt.xlabel('T', fontsize=12)\n",
    "plt.ylabel('diff', fontsize=12)\n",
    "plt.legend()\n",
    "plt.show()"
   ]
  }
 ],
 "metadata": {
  "kernelspec": {
   "display_name": "Python 3",
   "language": "python",
   "name": "python3"
  },
  "language_info": {
   "codemirror_mode": {
    "name": "ipython",
    "version": 3
   },
   "file_extension": ".py",
   "mimetype": "text/x-python",
   "name": "python",
   "nbconvert_exporter": "python",
   "pygments_lexer": "ipython3",
   "version": "3.7.6"
  }
 },
 "nbformat": 4,
 "nbformat_minor": 4
}
