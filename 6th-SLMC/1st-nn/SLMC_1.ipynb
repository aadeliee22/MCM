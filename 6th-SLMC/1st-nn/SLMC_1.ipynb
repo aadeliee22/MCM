{
 "cells": [
  {
   "cell_type": "code",
   "execution_count": 1,
   "metadata": {},
   "outputs": [],
   "source": [
    "import numpy as np\n",
    "import pandas as pd\n",
    "import subprocess as sub"
   ]
  },
  {
   "cell_type": "markdown",
   "metadata": {},
   "source": [
    "## step 1. Generate sample set by metropolis method"
   ]
  },
  {
   "cell_type": "code",
   "execution_count": 5,
   "metadata": {},
   "outputs": [
    {
     "name": "stdout",
     "output_type": "stream",
     "text": [
      "step1 finished\n",
      "T = 4.493\n",
      "Energy, J1 = [0.98689089 1.07915153]\n",
      "error = [32070.35215704]\n"
     ]
    }
   ],
   "source": [
    "# c = checkerboard, r = random\n",
    "sub.run(['g++', 'step1_plaquette_r_1.cpp', '-o', 'step1_1', '-I/home/hyejin/trng4-4.22', '-L/opt/trng/lib', '-ltrng4', '-std=gnu++11'])\n",
    "sub.run(['./step1_1'])\n",
    "print(\"step1 finished\")\n",
    "\n",
    "#Data of Energy&nn in fileout.txt\n",
    "f = pd.read_csv('fileout.txt', sep = ' ', header = 0)\n",
    "temp = f.temp[0]\n",
    "J0 = np.array(f.ene)\n",
    "J1 = np.array(f.nn)\n",
    "num = len(J0)\n",
    "nth = 1 #How much consideration of nearest neighbors\n",
    "Jmat = np.array([J1]).T\n",
    "target_mat = np.hstack([np.ones((num, 1)), Jmat[:, 0:nth]])\n",
    "Jlist, err, _, _ = np.linalg.lstsq(target_mat, J0, rcond = None)\n",
    "print(\"T =\", temp)\n",
    "print(\"Energy, J1 =\", Jlist)\n",
    "print(\"error =\", err)\n",
    "\n",
    "#Data of coefficient in filein.txt\n",
    "with open(\"filein.txt\", \"w\") as file:\n",
    "    for i in range (2):\n",
    "        data = Jlist[i]\n",
    "        file.write('%.10g\\n' % data)\n",
    "    file.write('%.10g' %temp)"
   ]
  },
  {
   "cell_type": "markdown",
   "metadata": {},
   "source": [
    "## step 2. optimize J, regenerate sample set by wolff method"
   ]
  },
  {
   "cell_type": "code",
   "execution_count": 6,
   "metadata": {
    "scrolled": true
   },
   "outputs": [
    {
     "name": "stdout",
     "output_type": "stream",
     "text": [
      "T = 4.293\n",
      "Energy, J1 = [1.17147435 1.08331287]\n",
      "error = [30219.17163398]\n",
      "T = 4.093\n",
      "Energy, J1 = [1.18470313 1.08357908]\n",
      "error = [30355.84110936]\n",
      "T = 3.8930000000000002\n",
      "Energy, J1 = [1.43764979 1.08878894]\n",
      "error = [28912.50740905]\n",
      "T = 3.693\n",
      "Energy, J1 = [1.63021987 1.091817  ]\n",
      "error = [27383.36038889]\n",
      "T = 3.4930000000000003\n",
      "Energy, J1 = [1.85428604 1.0952425 ]\n",
      "error = [26829.30415344]\n",
      "T = 3.293\n",
      "Energy, J1 = [1.96220642 1.09739487]\n",
      "error = [24336.46601835]\n",
      "T = 3.093\n",
      "Energy, J1 = [2.12370721 1.09997786]\n",
      "error = [23269.36175839]\n",
      "T = 2.8930000000000002\n",
      "Energy, J1 = [2.34221911 1.10249733]\n",
      "error = [20206.0416542]\n",
      "T = 2.693\n",
      "Energy, J1 = [2.68568327 1.1056546 ]\n",
      "error = [16688.16942181]\n",
      "T = 2.4930000000000003\n",
      "Energy, J1 = [3.49687861 1.11191389]\n",
      "error = [11196.32454947]\n"
     ]
    }
   ],
   "source": [
    "sub.run(['g++', 'step2_nnnwolff_1.cpp', '-o', 'step2_1', '-I/home/hyejin/trng4-4.22', '-L/opt/trng/lib','-ltrng4', '-std=gnu++11'])\n",
    "for i in range (10):\n",
    "    sub.run(['./step2_1'])\n",
    "\n",
    "    #Data of Energy&nn in fileout.txt\n",
    "    f = pd.read_csv('fileout.txt', sep = ' ', header = 0)\n",
    "    temp = f.temp[0]\n",
    "    J0 = np.array(f.ene)\n",
    "    J1 = np.array(f.nn)\n",
    "    num = len(J0)\n",
    "    nth = 1 #How much consideration of nearest neighbors\n",
    "    Jmat = np.array([J1]).T\n",
    "    target_mat = np.hstack([np.ones((num, 1)), Jmat[:, 0:nth]])\n",
    "    Jlist, err, _, _ = np.linalg.lstsq(target_mat, J0, rcond = None)\n",
    "    print(\"T =\", temp)\n",
    "    print(\"Energy, J1 =\", Jlist)\n",
    "    print(\"error =\", err)\n",
    "\n",
    "    #Data of coefficient in filein.txt\n",
    "    with open(\"filein.txt\", \"w\") as file:\n",
    "        for i in range (2):\n",
    "            data = Jlist[i]\n",
    "            file.write('%.10g\\n' % data)\n",
    "        file.write('%.10g' %temp)"
   ]
  },
  {
   "cell_type": "markdown",
   "metadata": {},
   "source": [
    "## step 3. Compare magnetization"
   ]
  },
  {
   "cell_type": "code",
   "execution_count": null,
   "metadata": {},
   "outputs": [],
   "source": [
    "sub.run(['g++', 'step3_nnnwolff_Mplot_1.cpp', '-o', 'step3_1', '-I/home/hyejin/trng4-4.22', '-L/opt/trng/lib', '-ltrng4', '-std=gnu++11'])\n",
    "sub.run(['./step3_1'])\n",
    "print(\"step3 finished\")"
   ]
  },
  {
   "cell_type": "code",
   "execution_count": null,
   "metadata": {},
   "outputs": [],
   "source": []
  }
 ],
 "metadata": {
  "kernelspec": {
   "display_name": "Python 3",
   "language": "python",
   "name": "python3"
  },
  "language_info": {
   "codemirror_mode": {
    "name": "ipython",
    "version": 3
   },
   "file_extension": ".py",
   "mimetype": "text/x-python",
   "name": "python",
   "nbconvert_exporter": "python",
   "pygments_lexer": "ipython3",
   "version": "3.7.6"
  }
 },
 "nbformat": 4,
 "nbformat_minor": 4
}
